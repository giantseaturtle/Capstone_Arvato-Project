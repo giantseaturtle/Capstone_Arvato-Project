{
 "cells": [
  {
   "cell_type": "markdown",
   "metadata": {},
   "source": [
    "# Capstone Project: Create a Customer Segmentation Report for Arvato Financial Services\n",
    "\n",
    "In this project, you will analyze demographics data for customers of a mail-order sales company in Germany, comparing it against demographics information for the general population. You'll use unsupervised learning techniques to perform customer segmentation, identifying the parts of the population that best describe the core customer base of the company. Then, you'll apply what you've learned on a third dataset with demographics information for targets of a marketing campaign for the company, and use a model to predict which individuals are most likely to convert into becoming customers for the company. The data that you will use has been provided by our partners at Bertelsmann Arvato Analytics, and represents a real-life data science task.\n",
    "\n",
    "If you completed the first term of this program, you will be familiar with the first part of this project, from the unsupervised learning project. The versions of those two datasets used in this project will include many more features and has not been pre-cleaned. You are also free to choose whatever approach you'd like to analyzing the data rather than follow pre-determined steps. In your work on this project, make sure that you carefully document your steps and decisions, since your main deliverable for this project will be a blog post reporting your findings."
   ]
  },
  {
   "cell_type": "code",
   "execution_count": 83,
   "metadata": {},
   "outputs": [],
   "source": [
    "# Import necessary libraries\n",
    "import numpy as np\n",
    "import pandas as pd\n",
    "import matplotlib.pyplot as plt\n",
    "import matplotlib.cm as cm\n",
    "import seaborn as sns\n",
    "from sklearn.preprocessing import StandardScaler\n",
    "from sklearn.cluster import KMeans, MiniBatchKMeans\n",
    "from sklearn.decomposition import PCA\n",
    "from sklearn.impute import SimpleImputer\n",
    "from sklearn.metrics import roc_curve\n",
    "from sklearn.model_selection import GridSearchCV\n",
    "from sklearn.linear_model import LogisticRegression\n",
    "from sklearn.ensemble import RandomForestClassifier\n",
    "from sklearn.ensemble import AdaBoostClassifier\n",
    "from sklearn.ensemble import GradientBoostingClassifier\n",
    "from xgboost import XGBClassifier\n",
    "import warnings\n",
    "from clean import clean"
   ]
  },
  {
   "cell_type": "markdown",
   "metadata": {},
   "source": [
    "## Part 0: Get to Know the Data\n",
    "\n",
    "There are four data files associated with this project:\n",
    "\n",
    "- `Udacity_AZDIAS_052018.csv`: Demographics data for the general population of Germany; 891 211 persons (rows) x 366 features (columns).\n",
    "- `Udacity_CUSTOMERS_052018.csv`: Demographics data for customers of a mail-order company; 191 652 persons (rows) x 369 features (columns).\n",
    "- `Udacity_MAILOUT_052018_TRAIN.csv`: Demographics data for individuals who were targets of a marketing campaign; 42 982 persons (rows) x 367 (columns).\n",
    "- `Udacity_MAILOUT_052018_TEST.csv`: Demographics data for individuals who were targets of a marketing campaign; 42 833 persons (rows) x 366 (columns).\n",
    "\n",
    "Each row of the demographics files represents a single person, but also includes information outside of individuals, including information about their household, building, and neighborhood. Use the information from the first two files to figure out how customers (\"CUSTOMERS\") are similar to or differ from the general population at large (\"AZDIAS\"), then use your analysis to make predictions on the other two files (\"MAILOUT\"), predicting which recipients are most likely to become a customer for the mail-order company.\n",
    "\n",
    "The \"CUSTOMERS\" file contains three extra columns ('CUSTOMER_GROUP', 'ONLINE_PURCHASE', and 'PRODUCT_GROUP'), which provide broad information about the customers depicted in the file. The original \"MAILOUT\" file included one additional column, \"RESPONSE\", which indicated whether or not each recipient became a customer of the company. For the \"TRAIN\" subset, this column has been retained, but in the \"TEST\" subset it has been removed; it is against that withheld column that your final predictions will be assessed in the Kaggle competition.\n",
    "\n",
    "Otherwise, all of the remaining columns are the same between the three data files. For more information about the columns depicted in the files, you can refer to two Excel spreadsheets provided in the workspace. [One of them](./DIAS Information Levels - Attributes 2017.xlsx) is a top-level list of attributes and descriptions, organized by informational category. [The other](./DIAS Attributes - Values 2017.xlsx) is a detailed mapping of data values for each feature in alphabetical order.\n",
    "\n",
    "In the below cell, we've provided some initial code to load in the first two datasets. Note for all of the `.csv` data files in this project that they're semicolon (`;`) delimited, so an additional argument in the [`read_csv()`](https://pandas.pydata.org/pandas-docs/stable/generated/pandas.read_csv.html) call has been included to read in the data properly. Also, considering the size of the datasets, it may take some time for them to load completely.\n",
    "\n",
    "You'll notice when the data is loaded in that a warning message will immediately pop up. Before you really start digging into the modeling and analysis, you're going to need to perform some cleaning. Take some time to browse the structure of the data and look over the informational spreadsheets to understand the data values. Make some decisions on which features to keep, which features to drop, and if any revisions need to be made on data formats. It'll be a good idea to create a function with pre-processing steps, since you'll need to clean all of the datasets before you work with them."
   ]
  },
  {
   "cell_type": "code",
   "execution_count": 112,
   "metadata": {},
   "outputs": [
    {
     "name": "stderr",
     "output_type": "stream",
     "text": [
      "/anaconda3/lib/python3.7/site-packages/IPython/core/interactiveshell.py:3049: DtypeWarning: Columns (18,19) have mixed types. Specify dtype option on import or set low_memory=False.\n",
      "  interactivity=interactivity, compiler=compiler, result=result)\n"
     ]
    }
   ],
   "source": [
    "# Load in the data azidas\n",
    "azdias = pd.read_csv('data/Udacity_AZDIAS_052018.csv', sep=';')"
   ]
  },
  {
   "cell_type": "code",
   "execution_count": 113,
   "metadata": {},
   "outputs": [],
   "source": [
    "# Load in the data customers\n",
    "customers = pd.read_csv('data/Udacity_CUSTOMERS_052018.csv', sep=';')"
   ]
  },
  {
   "cell_type": "code",
   "execution_count": 1,
   "metadata": {},
   "outputs": [],
   "source": [
    "# Create function to find out the columns with missing values\n",
    "def find_missing(df):\n",
    "    \"\"\"Identify columns that have missing data in the dataframe\n",
    "    \n",
    "    Input:\n",
    "        dataframe: input dataframe to identify missing data\n",
    "        \n",
    "    Returns:\n",
    "        dataframe: dataframe of column names as index, # missing records, % missing records\n",
    "    \"\"\"\n",
    "    \n",
    "    missing_col = df.columns[df.isna().sum()>0]\n",
    "    col_missing_val = df[missing_col].isna().sum().sort_values(ascending=False)\n",
    "    per_missing_val = (df[missing_col].isna().sum()/df.shape[0]*100).sort_values(ascending=False)\n",
    "    missing_df = pd.DataFrame(col_missing_val,columns=['missing_number'])\n",
    "    missing_df['missing_percentage']=per_missing_val\n",
    "    print('Number of columns with missing data:',missing_df.shape[0])\n",
    "    return missing_df"
   ]
  },
  {
   "cell_type": "markdown",
   "metadata": {},
   "source": [
    "### Procedure\n",
    "Step 1. Mixed-type issue fix\n",
    "\n",
    "Step 2. Access missing value (column and row)\n",
    "\n",
    "Step 3. Process missing value\n",
    "\n",
    "Step 4. Remove highly correlated and redundant features\n",
    "\n",
    "Step 5. One-hot encode and translate categorical features"
   ]
  },
  {
   "cell_type": "markdown",
   "metadata": {},
   "source": [
    "### Step 1. Mixed-type data fix\n",
    "According to the error messages during the data loading, columns (18, 19) in both azdias and customers dataframes exhibit mixed types issue. Therefore, this step will focus on figuring out the problem and fix it."
   ]
  },
  {
   "cell_type": "code",
   "execution_count": 87,
   "metadata": {},
   "outputs": [
    {
     "name": "stdout",
     "output_type": "stream",
     "text": [
      "['CAMEO_DEUG_2015', 'CAMEO_INTL_2015'] columns have mixed-type data issue in both azdias and customers dataframes.\n",
      "\n",
      "The values in CAMEO_DEUG_2015 are [nan, 8.0, 4.0, 2.0, 6.0, 1.0, 9.0, 5.0, 7.0, 3.0, '4', '3', '7', '2', '8', '9', '6', '5', '1', 'X']\n",
      "\n",
      "The values in CAMEO_INTL_2015 are [nan, 51.0, 24.0, 12.0, 43.0, 54.0, 22.0, 14.0, 13.0, 15.0, 33.0, 41.0, 34.0, 55.0, 25.0, 23.0, 31.0, 52.0, 35.0, 45.0, 44.0, 32.0, '22', '24', '41', '12', '54', '51', '44', '35', '23', '25', '14', '34', '52', '55', '31', '32', '15', '13', '43', '33', '45', 'XX']\n"
     ]
    }
   ],
   "source": [
    "# Check the (18,19) columns in azdias dataframe\n",
    "mix_column = list(azdias.iloc[:, 18:20].columns)\n",
    "print(\"{} columns have mixed-type data issue in both azdias and customers dataframes.\\n\".format(mix_column))\n",
    "print(\"The values in CAMEO_DEUG_2015 are {}\\n\".format(list(azdias[mix_column[0]].unique())))\n",
    "print(\"The values in CAMEO_INTL_2015 are {}\".format(list(azdias[mix_column[1]].unique())))"
   ]
  },
  {
   "cell_type": "markdown",
   "metadata": {},
   "source": [
    "**Comments:**  The \"CAMEO_DEUG_2015\", \"CAMEO_INTL_2015\" are the columns with mixed-type data issue in two dataframes, they are caused by the appearance of \"X\"/\"XX\" and the decimal point (1 vs. 1.0) issue."
   ]
  },
  {
   "cell_type": "code",
   "execution_count": 114,
   "metadata": {},
   "outputs": [],
   "source": [
    "# Replace the \"X\"/\"XX\" by -1 in CAMEO_DEUG_2015 column and convert the data to consistent type (float) to solve mixd type issue\n",
    "azdias['CAMEO_DEUG_2015'] = azdias['CAMEO_DEUG_2015'][azdias['CAMEO_DEUG_2015'].notnull()].replace(\"X\",\"-1\").astype('int')\n",
    "customers['CAMEO_DEUG_2015'] = customers['CAMEO_DEUG_2015'][customers['CAMEO_DEUG_2015'].notnull()].replace(\"X\",\"-1\").astype('int')\n",
    "azdias['CAMEO_INTL_2015'] = azdias['CAMEO_INTL_2015'][azdias['CAMEO_INTL_2015'].notnull()].replace(\"XX\",\"-1\").astype('int')\n",
    "customers['CAMEO_INTL_2015'] = customers['CAMEO_INTL_2015'][customers['CAMEO_INTL_2015'].notnull()].replace(\"XX\",\"-1\").astype('int')"
   ]
  },
  {
   "cell_type": "code",
   "execution_count": 89,
   "metadata": {},
   "outputs": [
    {
     "data": {
      "text/plain": [
       " 8.0    134441\n",
       " 9.0    108177\n",
       " 6.0    105874\n",
       " 4.0    103912\n",
       " 3.0     86779\n",
       " 2.0     83231\n",
       " 7.0     77933\n",
       " 5.0     55310\n",
       " 1.0     36212\n",
       "-1.0       373\n",
       "Name: CAMEO_DEUG_2015, dtype: int64"
      ]
     },
     "execution_count": 89,
     "metadata": {},
     "output_type": "execute_result"
    }
   ],
   "source": [
    "# Examine whether mixed type issue solved or not in azdias dataframe\n",
    "azdias['CAMEO_DEUG_2015'].value_counts()"
   ]
  },
  {
   "cell_type": "code",
   "execution_count": 11,
   "metadata": {},
   "outputs": [
    {
     "data": {
      "text/plain": [
       " 51.0    133694\n",
       " 41.0     92336\n",
       " 24.0     91158\n",
       " 14.0     62884\n",
       " 43.0     56672\n",
       " 54.0     45391\n",
       " 25.0     39628\n",
       " 22.0     33155\n",
       " 23.0     26750\n",
       " 13.0     26336\n",
       " 45.0     26132\n",
       " 55.0     23955\n",
       " 52.0     20542\n",
       " 31.0     19024\n",
       " 34.0     18524\n",
       " 15.0     16974\n",
       " 44.0     14820\n",
       " 12.0     13249\n",
       " 35.0     10356\n",
       " 32.0     10354\n",
       " 33.0      9935\n",
       "-1.0        373\n",
       "Name: CAMEO_INTL_2015, dtype: int64"
      ]
     },
     "execution_count": 11,
     "metadata": {},
     "output_type": "execute_result"
    }
   ],
   "source": [
    "# Examine whether mixed type issue solved or not in azdias dataframe\n",
    "azdias['CAMEO_INTL_2015'].value_counts()"
   ]
  },
  {
   "cell_type": "code",
   "execution_count": 12,
   "metadata": {},
   "outputs": [
    {
     "data": {
      "text/plain": [
       "Index(['CAMEO_DEU_2015', 'D19_LETZTER_KAUF_BRANCHE', 'EINGEFUEGT_AM',\n",
       "       'OST_WEST_KZ'],\n",
       "      dtype='object')"
      ]
     },
     "execution_count": 12,
     "metadata": {},
     "output_type": "execute_result"
    }
   ],
   "source": [
    "# Check if other columns have same mixed-type issue\n",
    "azdias.select_dtypes(include=['object']).columns"
   ]
  },
  {
   "cell_type": "markdown",
   "metadata": {},
   "source": [
    "**Comments:** 'CAMEO_DEU_2015 also contain 'XX' value, same procedure will apply to it. 'OST_WEST_KZ' is categorical variable, will be one-hot encoding. 'D19_LETZTER_KAUF_BRANCHE' and 'EINGEFUEGT_AM' are categorical variables with a lot of distincts, which might be one-hot encoding later or just drop."
   ]
  },
  {
   "cell_type": "code",
   "execution_count": 115,
   "metadata": {},
   "outputs": [],
   "source": [
    "# Replace the 'XX' with NaN in both azdias and customers dataframe\n",
    "azdias.CAMEO_DEU_2015 = azdias.CAMEO_DEU_2015.replace('XX', np.NaN)\n",
    "customers.CAMEO_DEU_2015 = customers.CAMEO_DEU_2015.replace('XX', np.NaN)"
   ]
  },
  {
   "cell_type": "code",
   "execution_count": 116,
   "metadata": {},
   "outputs": [],
   "source": [
    "# Encode 'W' with 1.0, 'O' with 2.0 in OST_WEST_KZ attribute\n",
    "azdias.OST_WEST_KZ = azdias.OST_WEST_KZ.replace('W', 1.0).replace('O', 2.0)\n",
    "customers.OST_WEST_KZ = customers.OST_WEST_KZ.replace('W', 1.0).replace('O', 2.0)"
   ]
  },
  {
   "cell_type": "markdown",
   "metadata": {},
   "source": [
    "### Step 2. Accessing missing value\n",
    "In order to perform unsupervisor learning on azdias and customers dataframes in next parts, all the data should be missing value free and numeric. This step will particularly evaluate and visualize the distribution of missing value in two dataframes, sharing information about which columns/rows to impute or drop. "
   ]
  },
  {
   "cell_type": "markdown",
   "metadata": {},
   "source": [
    "#### 2.1 Accessing missing value in each colums of azidas dataframe"
   ]
  },
  {
   "cell_type": "code",
   "execution_count": 117,
   "metadata": {},
   "outputs": [
    {
     "name": "stdout",
     "output_type": "stream",
     "text": [
      "Number of columns with missing data: 273\n"
     ]
    },
    {
     "data": {
      "text/html": [
       "<div>\n",
       "<style scoped>\n",
       "    .dataframe tbody tr th:only-of-type {\n",
       "        vertical-align: middle;\n",
       "    }\n",
       "\n",
       "    .dataframe tbody tr th {\n",
       "        vertical-align: top;\n",
       "    }\n",
       "\n",
       "    .dataframe thead th {\n",
       "        text-align: right;\n",
       "    }\n",
       "</style>\n",
       "<table border=\"1\" class=\"dataframe\">\n",
       "  <thead>\n",
       "    <tr style=\"text-align: right;\">\n",
       "      <th></th>\n",
       "      <th>missing_number</th>\n",
       "      <th>missing_percentage</th>\n",
       "    </tr>\n",
       "  </thead>\n",
       "  <tbody>\n",
       "    <tr>\n",
       "      <th>ALTER_KIND4</th>\n",
       "      <td>890016</td>\n",
       "      <td>99.864792</td>\n",
       "    </tr>\n",
       "    <tr>\n",
       "      <th>ALTER_KIND3</th>\n",
       "      <td>885051</td>\n",
       "      <td>99.307691</td>\n",
       "    </tr>\n",
       "    <tr>\n",
       "      <th>ALTER_KIND2</th>\n",
       "      <td>861722</td>\n",
       "      <td>96.690047</td>\n",
       "    </tr>\n",
       "    <tr>\n",
       "      <th>ALTER_KIND1</th>\n",
       "      <td>810163</td>\n",
       "      <td>90.904837</td>\n",
       "    </tr>\n",
       "    <tr>\n",
       "      <th>EXTSEL992</th>\n",
       "      <td>654153</td>\n",
       "      <td>73.399639</td>\n",
       "    </tr>\n",
       "    <tr>\n",
       "      <th>KK_KUNDENTYP</th>\n",
       "      <td>584612</td>\n",
       "      <td>65.596749</td>\n",
       "    </tr>\n",
       "    <tr>\n",
       "      <th>ALTERSKATEGORIE_FEIN</th>\n",
       "      <td>262947</td>\n",
       "      <td>29.504130</td>\n",
       "    </tr>\n",
       "    <tr>\n",
       "      <th>D19_SOZIALES</th>\n",
       "      <td>257113</td>\n",
       "      <td>28.849522</td>\n",
       "    </tr>\n",
       "    <tr>\n",
       "      <th>D19_VERSI_ONLINE_QUOTE_12</th>\n",
       "      <td>257113</td>\n",
       "      <td>28.849522</td>\n",
       "    </tr>\n",
       "    <tr>\n",
       "      <th>D19_VERSAND_ONLINE_QUOTE_12</th>\n",
       "      <td>257113</td>\n",
       "      <td>28.849522</td>\n",
       "    </tr>\n",
       "    <tr>\n",
       "      <th>D19_TELKO_ONLINE_QUOTE_12</th>\n",
       "      <td>257113</td>\n",
       "      <td>28.849522</td>\n",
       "    </tr>\n",
       "    <tr>\n",
       "      <th>D19_BANKEN_ONLINE_QUOTE_12</th>\n",
       "      <td>257113</td>\n",
       "      <td>28.849522</td>\n",
       "    </tr>\n",
       "    <tr>\n",
       "      <th>D19_LOTTO</th>\n",
       "      <td>257113</td>\n",
       "      <td>28.849522</td>\n",
       "    </tr>\n",
       "    <tr>\n",
       "      <th>D19_LETZTER_KAUF_BRANCHE</th>\n",
       "      <td>257113</td>\n",
       "      <td>28.849522</td>\n",
       "    </tr>\n",
       "    <tr>\n",
       "      <th>D19_KONSUMTYP</th>\n",
       "      <td>257113</td>\n",
       "      <td>28.849522</td>\n",
       "    </tr>\n",
       "    <tr>\n",
       "      <th>D19_GESAMT_ONLINE_QUOTE_12</th>\n",
       "      <td>257113</td>\n",
       "      <td>28.849522</td>\n",
       "    </tr>\n",
       "    <tr>\n",
       "      <th>KBA05_MAXVORB</th>\n",
       "      <td>133324</td>\n",
       "      <td>14.959701</td>\n",
       "    </tr>\n",
       "    <tr>\n",
       "      <th>KBA05_MAXSEG</th>\n",
       "      <td>133324</td>\n",
       "      <td>14.959701</td>\n",
       "    </tr>\n",
       "    <tr>\n",
       "      <th>KBA05_KW2</th>\n",
       "      <td>133324</td>\n",
       "      <td>14.959701</td>\n",
       "    </tr>\n",
       "    <tr>\n",
       "      <th>KBA05_MAXHERST</th>\n",
       "      <td>133324</td>\n",
       "      <td>14.959701</td>\n",
       "    </tr>\n",
       "  </tbody>\n",
       "</table>\n",
       "</div>"
      ],
      "text/plain": [
       "                             missing_number  missing_percentage\n",
       "ALTER_KIND4                          890016           99.864792\n",
       "ALTER_KIND3                          885051           99.307691\n",
       "ALTER_KIND2                          861722           96.690047\n",
       "ALTER_KIND1                          810163           90.904837\n",
       "EXTSEL992                            654153           73.399639\n",
       "KK_KUNDENTYP                         584612           65.596749\n",
       "ALTERSKATEGORIE_FEIN                 262947           29.504130\n",
       "D19_SOZIALES                         257113           28.849522\n",
       "D19_VERSI_ONLINE_QUOTE_12            257113           28.849522\n",
       "D19_VERSAND_ONLINE_QUOTE_12          257113           28.849522\n",
       "D19_TELKO_ONLINE_QUOTE_12            257113           28.849522\n",
       "D19_BANKEN_ONLINE_QUOTE_12           257113           28.849522\n",
       "D19_LOTTO                            257113           28.849522\n",
       "D19_LETZTER_KAUF_BRANCHE             257113           28.849522\n",
       "D19_KONSUMTYP                        257113           28.849522\n",
       "D19_GESAMT_ONLINE_QUOTE_12           257113           28.849522\n",
       "KBA05_MAXVORB                        133324           14.959701\n",
       "KBA05_MAXSEG                         133324           14.959701\n",
       "KBA05_KW2                            133324           14.959701\n",
       "KBA05_MAXHERST                       133324           14.959701"
      ]
     },
     "execution_count": 117,
     "metadata": {},
     "output_type": "execute_result"
    }
   ],
   "source": [
    "# Find out the missing value in each columns of azdias dataframe\n",
    "azdias_missing_col = find_missing(azdias)\n",
    "azdias_missing_col.head(20)"
   ]
  },
  {
   "cell_type": "code",
   "execution_count": 18,
   "metadata": {},
   "outputs": [
    {
     "data": {
      "text/plain": [
       "(array([ 50., 207.,  10.,   0.,   0.,   0.,   1.,   1.,   0.,   4.]),\n",
       " array([ 0.54464605, 10.47666067, 20.40867529, 30.34068991, 40.27270453,\n",
       "        50.20471914, 60.13673376, 70.06874838, 80.000763  , 89.93277762,\n",
       "        99.86479223]),\n",
       " <a list of 10 Patch objects>)"
      ]
     },
     "execution_count": 18,
     "metadata": {},
     "output_type": "execute_result"
    },
    {
     "data": {
      "image/png": "[encoded data removed]",
      "text/plain": [
       "<Figure size 720x540 with 1 Axes>"
      ]
     },
     "metadata": {
      "needs_background": "light"
     },
     "output_type": "display_data"
    }
   ],
   "source": [
    "# Visualize the distribution of missing value percentage in each columns of azdias\n",
    "fig = plt.figure(figsize=[10,7.5])\n",
    "ax = plt.subplot()\n",
    "ax.set_title('Distribution of missing value percentage in each column of azdias')\n",
    "ax.set_xlabel('Percentage of missing value %')\n",
    "ax.set_ylabel('Count')\n",
    "plt.hist(azdias_missing_col['missing_percentage'])"
   ]
  },
  {
   "cell_type": "code",
   "execution_count": 19,
   "metadata": {},
   "outputs": [
    {
     "data": {
      "text/plain": [
       "<BarContainer object of 30 artists>"
      ]
     },
     "execution_count": 19,
     "metadata": {},
     "output_type": "execute_result"
    },
    {
     "data": {
      "image/png": "[encoded data removed]",
      "text/plain": [
       "<Figure size 1080x720 with 1 Axes>"
      ]
     },
     "metadata": {
      "needs_background": "light"
     },
     "output_type": "display_data"
    }
   ],
   "source": [
    "# Visualize the missing value in each columns of azdias\n",
    "sub_a = azdias_missing_col[azdias_missing_col['missing_percentage']>40]\n",
    "sub_b = azdias_missing_col[azdias_missing_col['missing_percentage']<=40][:30]\n",
    "\n",
    "fig = plt.figure(figsize=[15,10])\n",
    "ax = plt.subplot()\n",
    "ax.set_title('Percentage of missing value in azdias')\n",
    "ax.set_xlabel('Percentage of missing value %')\n",
    "ax.set_ylabel('')\n",
    "plt.barh(sub_a.index.values, sub_a['missing_percentage'], color='r')\n",
    "plt.barh(sub_b.index.values, sub_b['missing_percentage'], color='b')"
   ]
  },
  {
   "cell_type": "markdown",
   "metadata": {},
   "source": [
    "**Discussion:** In azdias dataframe, there are 273 out of 366 columns containing missing values, most of them are around 20% missing rate (blue color bar), which require further data manipulation (impute or drop). While those features (labelled with red color), have over 60% data missing rate, which are harmful for building machine learning model, should be directly dropped in the further data processing."
   ]
  },
  {
   "cell_type": "markdown",
   "metadata": {},
   "source": [
    "#### 2.2 Accessing missing value in each rows of azdias dataframe"
   ]
  },
  {
   "cell_type": "code",
   "execution_count": 20,
   "metadata": {},
   "outputs": [],
   "source": [
    "# Evaluate the missing percentage in each row of azdias\n",
    "missing_row_per = azdias.isna().sum(axis=1).sort_values(ascending=False)/366*100"
   ]
  },
  {
   "cell_type": "code",
   "execution_count": 21,
   "metadata": {},
   "outputs": [
    {
     "data": {
      "text/plain": [
       "(array([7.48418e+05, 2.91300e+03, 2.57330e+04, 8.33400e+03, 2.82300e+03,\n",
       "        3.75900e+03, 8.00000e+00, 5.82800e+03, 1.51300e+04, 7.82750e+04]),\n",
       " array([ 0.        ,  7.07650273, 14.15300546, 21.2295082 , 28.30601093,\n",
       "        35.38251366, 42.45901639, 49.53551913, 56.61202186, 63.68852459,\n",
       "        70.76502732]),\n",
       " <a list of 10 Patch objects>)"
      ]
     },
     "execution_count": 21,
     "metadata": {},
     "output_type": "execute_result"
    },
    {
     "data": {
      "image/png": "[encoded data removed]",
      "text/plain": [
       "<Figure size 720x540 with 1 Axes>"
      ]
     },
     "metadata": {
      "needs_background": "light"
     },
     "output_type": "display_data"
    }
   ],
   "source": [
    "# Visualize the distribution of missing value percentage in each rows of azdias\n",
    "fig = plt.figure(figsize=[10,7.5])\n",
    "ax = plt.subplot()\n",
    "ax.set_title('Distribution of missing value percentage in each row of azdias')\n",
    "ax.set_xlabel('Percentage of missing value %')\n",
    "ax.set_ylabel('Count')\n",
    "plt.hist(missing_row_per)"
   ]
  },
  {
   "cell_type": "markdown",
   "metadata": {},
   "source": [
    "**Discussion:** From above histogram, we can see almost every single row has missing value, there are quite significant amount of rows with over 50% missing value, which should be considered dropping to avoid introducing bias for the future model building."
   ]
  },
  {
   "cell_type": "markdown",
   "metadata": {},
   "source": [
    "#### 2.3 Accessing missing value in each colums of customers dataframe"
   ]
  },
  {
   "cell_type": "code",
   "execution_count": 118,
   "metadata": {},
   "outputs": [
    {
     "name": "stdout",
     "output_type": "stream",
     "text": [
      "Number of columns with missing data: 273\n"
     ]
    },
    {
     "data": {
      "text/html": [
       "<div>\n",
       "<style scoped>\n",
       "    .dataframe tbody tr th:only-of-type {\n",
       "        vertical-align: middle;\n",
       "    }\n",
       "\n",
       "    .dataframe tbody tr th {\n",
       "        vertical-align: top;\n",
       "    }\n",
       "\n",
       "    .dataframe thead th {\n",
       "        text-align: right;\n",
       "    }\n",
       "</style>\n",
       "<table border=\"1\" class=\"dataframe\">\n",
       "  <thead>\n",
       "    <tr style=\"text-align: right;\">\n",
       "      <th></th>\n",
       "      <th>missing_number</th>\n",
       "      <th>missing_percentage</th>\n",
       "    </tr>\n",
       "  </thead>\n",
       "  <tbody>\n",
       "    <tr>\n",
       "      <th>ALTER_KIND4</th>\n",
       "      <td>191416</td>\n",
       "      <td>99.876860</td>\n",
       "    </tr>\n",
       "    <tr>\n",
       "      <th>ALTER_KIND3</th>\n",
       "      <td>190377</td>\n",
       "      <td>99.334732</td>\n",
       "    </tr>\n",
       "    <tr>\n",
       "      <th>ALTER_KIND2</th>\n",
       "      <td>186552</td>\n",
       "      <td>97.338927</td>\n",
       "    </tr>\n",
       "    <tr>\n",
       "      <th>ALTER_KIND1</th>\n",
       "      <td>179886</td>\n",
       "      <td>93.860748</td>\n",
       "    </tr>\n",
       "    <tr>\n",
       "      <th>KK_KUNDENTYP</th>\n",
       "      <td>111937</td>\n",
       "      <td>58.406382</td>\n",
       "    </tr>\n",
       "    <tr>\n",
       "      <th>EXTSEL992</th>\n",
       "      <td>85283</td>\n",
       "      <td>44.498883</td>\n",
       "    </tr>\n",
       "    <tr>\n",
       "      <th>KBA05_ANHANG</th>\n",
       "      <td>55980</td>\n",
       "      <td>29.209192</td>\n",
       "    </tr>\n",
       "    <tr>\n",
       "      <th>KBA05_MAXHERST</th>\n",
       "      <td>55980</td>\n",
       "      <td>29.209192</td>\n",
       "    </tr>\n",
       "    <tr>\n",
       "      <th>KBA05_ALTER2</th>\n",
       "      <td>55980</td>\n",
       "      <td>29.209192</td>\n",
       "    </tr>\n",
       "    <tr>\n",
       "      <th>KBA05_MOD8</th>\n",
       "      <td>55980</td>\n",
       "      <td>29.209192</td>\n",
       "    </tr>\n",
       "    <tr>\n",
       "      <th>KBA05_MOD4</th>\n",
       "      <td>55980</td>\n",
       "      <td>29.209192</td>\n",
       "    </tr>\n",
       "    <tr>\n",
       "      <th>KBA05_MOD2</th>\n",
       "      <td>55980</td>\n",
       "      <td>29.209192</td>\n",
       "    </tr>\n",
       "    <tr>\n",
       "      <th>KBA05_MOD1</th>\n",
       "      <td>55980</td>\n",
       "      <td>29.209192</td>\n",
       "    </tr>\n",
       "    <tr>\n",
       "      <th>KBA05_MAXVORB</th>\n",
       "      <td>55980</td>\n",
       "      <td>29.209192</td>\n",
       "    </tr>\n",
       "    <tr>\n",
       "      <th>KBA05_MAXSEG</th>\n",
       "      <td>55980</td>\n",
       "      <td>29.209192</td>\n",
       "    </tr>\n",
       "    <tr>\n",
       "      <th>KBA05_MAXAH</th>\n",
       "      <td>55980</td>\n",
       "      <td>29.209192</td>\n",
       "    </tr>\n",
       "    <tr>\n",
       "      <th>KBA05_MAXBJ</th>\n",
       "      <td>55980</td>\n",
       "      <td>29.209192</td>\n",
       "    </tr>\n",
       "    <tr>\n",
       "      <th>KBA05_MOTRAD</th>\n",
       "      <td>55980</td>\n",
       "      <td>29.209192</td>\n",
       "    </tr>\n",
       "    <tr>\n",
       "      <th>KBA05_KW3</th>\n",
       "      <td>55980</td>\n",
       "      <td>29.209192</td>\n",
       "    </tr>\n",
       "    <tr>\n",
       "      <th>KBA05_KW2</th>\n",
       "      <td>55980</td>\n",
       "      <td>29.209192</td>\n",
       "    </tr>\n",
       "  </tbody>\n",
       "</table>\n",
       "</div>"
      ],
      "text/plain": [
       "                missing_number  missing_percentage\n",
       "ALTER_KIND4             191416           99.876860\n",
       "ALTER_KIND3             190377           99.334732\n",
       "ALTER_KIND2             186552           97.338927\n",
       "ALTER_KIND1             179886           93.860748\n",
       "KK_KUNDENTYP            111937           58.406382\n",
       "EXTSEL992                85283           44.498883\n",
       "KBA05_ANHANG             55980           29.209192\n",
       "KBA05_MAXHERST           55980           29.209192\n",
       "KBA05_ALTER2             55980           29.209192\n",
       "KBA05_MOD8               55980           29.209192\n",
       "KBA05_MOD4               55980           29.209192\n",
       "KBA05_MOD2               55980           29.209192\n",
       "KBA05_MOD1               55980           29.209192\n",
       "KBA05_MAXVORB            55980           29.209192\n",
       "KBA05_MAXSEG             55980           29.209192\n",
       "KBA05_MAXAH              55980           29.209192\n",
       "KBA05_MAXBJ              55980           29.209192\n",
       "KBA05_MOTRAD             55980           29.209192\n",
       "KBA05_KW3                55980           29.209192\n",
       "KBA05_KW2                55980           29.209192"
      ]
     },
     "execution_count": 118,
     "metadata": {},
     "output_type": "execute_result"
    }
   ],
   "source": [
    "#Drop three extra columns in customers\n",
    "customers = customers.drop(columns=['CUSTOMER_GROUP', 'ONLINE_PURCHASE', 'PRODUCT_GROUP'])\n",
    "\n",
    "# Find out the missing value in each columns of customers dataframe\n",
    "customers_missing_col = find_missing(customers)\n",
    "customers_missing_col.head(20)"
   ]
  },
  {
   "cell_type": "code",
   "execution_count": 23,
   "metadata": {},
   "outputs": [
    {
     "data": {
      "text/plain": [
       "(array([ 17.,   0., 251.,   3.,   3.,   5.,   1.,   0.,   1.,  10.]),\n",
       " array([ 0.12522697, 10.10039029, 20.07555361, 30.05071692, 40.02588024,\n",
       "        50.00104356, 59.97620687, 69.95137019, 79.92653351, 89.90169683,\n",
       "        99.87686014]),\n",
       " <a list of 10 Patch objects>)"
      ]
     },
     "execution_count": 23,
     "metadata": {},
     "output_type": "execute_result"
    },
    {
     "data": {
      "image/png": "[encoded data removed]",
      "text/plain": [
       "<Figure size 720x540 with 1 Axes>"
      ]
     },
     "metadata": {
      "needs_background": "light"
     },
     "output_type": "display_data"
    }
   ],
   "source": [
    "# Visualize the distribution of missing value percentage in each columns of customers\n",
    "fig = plt.figure(figsize=[10,7.5])\n",
    "ax = plt.subplot()\n",
    "ax.set_title('Distribution of missing value percentage in each column of customers')\n",
    "ax.set_xlabel('Percentage of missing value %')\n",
    "ax.set_ylabel('Count')\n",
    "plt.hist(customers_missing_col['missing_percentage'])"
   ]
  },
  {
   "cell_type": "code",
   "execution_count": 24,
   "metadata": {},
   "outputs": [
    {
     "data": {
      "text/plain": [
       "<BarContainer object of 30 artists>"
      ]
     },
     "execution_count": 24,
     "metadata": {},
     "output_type": "execute_result"
    },
    {
     "data": {
      "image/png": "[encoded data removed]",
      "text/plain": [
       "<Figure size 1080x720 with 1 Axes>"
      ]
     },
     "metadata": {
      "needs_background": "light"
     },
     "output_type": "display_data"
    }
   ],
   "source": [
    "# Visualize the missing value in each columns of azdias\n",
    "sub_a = customers_missing_col[customers_missing_col['missing_percentage']>40]\n",
    "sub_b = customers_missing_col[customers_missing_col['missing_percentage']<=40][:30]\n",
    "\n",
    "fig = plt.figure(figsize=[15,10])\n",
    "ax = plt.subplot()\n",
    "ax.set_title('Percentage of missing value in customers')\n",
    "ax.set_xlabel('Percentage of missing value %')\n",
    "ax.set_ylabel('')\n",
    "plt.barh(sub_a.index.values, sub_a['missing_percentage'], color='r')\n",
    "plt.barh(sub_b.index.values, sub_b['missing_percentage'], color='b')"
   ]
  },
  {
   "cell_type": "markdown",
   "metadata": {},
   "source": [
    "**Discussion:** Similarly, there are same six features (red bar): \"EXTSEL992\",\"KK_KUNDENTYP\", \"ALTER_KIND1\", \"ALTER_KIND2\", \"ALTER_KIND3\", and \"ALTER_KIND4\", have over 40% missing value rate in customers dataframe, should be directly dropped. While a bit different from azdias, there are quite amount of features have missing value rate between 20-40%, need further consideration."
   ]
  },
  {
   "cell_type": "markdown",
   "metadata": {},
   "source": [
    "#### 2.4 Accessing missing value in each rows of customers dataframe"
   ]
  },
  {
   "cell_type": "code",
   "execution_count": 25,
   "metadata": {},
   "outputs": [],
   "source": [
    "# Evaluate the missing percentage in each row of customers\n",
    "customers_missing_row_per = customers.isna().sum(axis=1).sort_values(ascending=False)/366*100"
   ]
  },
  {
   "cell_type": "code",
   "execution_count": 26,
   "metadata": {},
   "outputs": [
    {
     "data": {
      "text/plain": [
       "(array([1.30559e+05, 3.68400e+03, 4.56700e+03, 1.55100e+03, 2.01000e+02,\n",
       "        3.00000e+02, 8.00000e+00, 8.41000e+02, 3.22800e+03, 4.67130e+04]),\n",
       " array([ 0.27322404,  7.75956284, 15.24590164, 22.73224044, 30.21857923,\n",
       "        37.70491803, 45.19125683, 52.67759563, 60.16393443, 67.65027322,\n",
       "        75.13661202]),\n",
       " <a list of 10 Patch objects>)"
      ]
     },
     "execution_count": 26,
     "metadata": {},
     "output_type": "execute_result"
    },
    {
     "data": {
      "image/png": "[encoded data removed]",
      "text/plain": [
       "<Figure size 720x540 with 1 Axes>"
      ]
     },
     "metadata": {
      "needs_background": "light"
     },
     "output_type": "display_data"
    }
   ],
   "source": [
    "# Visualize the distribution of missing value percentage in each rows of customers\n",
    "fig = plt.figure(figsize=[10,7.5])\n",
    "ax = plt.subplot()\n",
    "ax.set_title('Distribution of missing value percentage in each row of customers')\n",
    "ax.set_xlabel('Percentage of missing value %')\n",
    "ax.set_ylabel('Count')\n",
    "plt.hist(customers_missing_row_per)"
   ]
  },
  {
   "cell_type": "markdown",
   "metadata": {},
   "source": [
    "**Discussion:** The missing value situation is similar with the rows in azdias, there are quite significant amount of rows with over 50% missing value, the missing value processing strategy should be consistent with that of azdias dataframe."
   ]
  },
  {
   "cell_type": "markdown",
   "metadata": {},
   "source": [
    "### Step 3. Processing missing value\n",
    "This step will focus on handling the missing value in each columns and rows, the threshold for column is >30% missing rate, for row is >50% missing rate. \n",
    "\n",
    "But before removing missing value, I will first convert the missing/unknown value to NaN, e.g. 'AGER_TYP', its missing/unknown values were labeled as -1 and 0."
   ]
  },
  {
   "cell_type": "code",
   "execution_count": 93,
   "metadata": {},
   "outputs": [
    {
     "data": {
      "text/html": [
       "<div>\n",
       "<style scoped>\n",
       "    .dataframe tbody tr th:only-of-type {\n",
       "        vertical-align: middle;\n",
       "    }\n",
       "\n",
       "    .dataframe tbody tr th {\n",
       "        vertical-align: top;\n",
       "    }\n",
       "\n",
       "    .dataframe thead th {\n",
       "        text-align: right;\n",
       "    }\n",
       "</style>\n",
       "<table border=\"1\" class=\"dataframe\">\n",
       "  <thead>\n",
       "    <tr style=\"text-align: right;\">\n",
       "      <th></th>\n",
       "      <th>attribute</th>\n",
       "      <th>type</th>\n",
       "      <th>missing_or_unknown</th>\n",
       "    </tr>\n",
       "  </thead>\n",
       "  <tbody>\n",
       "    <tr>\n",
       "      <th>0</th>\n",
       "      <td>AGER_TYP</td>\n",
       "      <td>categorical</td>\n",
       "      <td>-1, 0</td>\n",
       "    </tr>\n",
       "    <tr>\n",
       "      <th>1</th>\n",
       "      <td>ALTERSKATEGORIE_GROB</td>\n",
       "      <td>ordinal</td>\n",
       "      <td>-1, 0, 9</td>\n",
       "    </tr>\n",
       "    <tr>\n",
       "      <th>2</th>\n",
       "      <td>ANREDE_KZ</td>\n",
       "      <td>categorical</td>\n",
       "      <td>-1, 0</td>\n",
       "    </tr>\n",
       "    <tr>\n",
       "      <th>3</th>\n",
       "      <td>CJT_GESAMTTYP</td>\n",
       "      <td>categorical</td>\n",
       "      <td>0</td>\n",
       "    </tr>\n",
       "    <tr>\n",
       "      <th>4</th>\n",
       "      <td>FINANZ_MINIMALIST</td>\n",
       "      <td>ordinal</td>\n",
       "      <td>-1</td>\n",
       "    </tr>\n",
       "  </tbody>\n",
       "</table>\n",
       "</div>"
      ],
      "text/plain": [
       "              attribute         type missing_or_unknown\n",
       "0              AGER_TYP  categorical              -1, 0\n",
       "1  ALTERSKATEGORIE_GROB      ordinal           -1, 0, 9\n",
       "2             ANREDE_KZ  categorical              -1, 0\n",
       "3         CJT_GESAMTTYP  categorical                  0\n",
       "4     FINANZ_MINIMALIST      ordinal                 -1"
      ]
     },
     "execution_count": 93,
     "metadata": {},
     "output_type": "execute_result"
    }
   ],
   "source": [
    "# Load feature_summary dataframe\n",
    "feature = pd.read_csv('./feature_summary.csv')\n",
    "feature.drop(['Unnamed: 0'],axis=1, inplace=True)\n",
    "feature.head()"
   ]
  },
  {
   "cell_type": "code",
   "execution_count": 94,
   "metadata": {},
   "outputs": [
    {
     "name": "stderr",
     "output_type": "stream",
     "text": [
      "/anaconda3/lib/python3.7/site-packages/ipykernel_launcher.py:2: SettingWithCopyWarning: \n",
      "A value is trying to be set on a copy of a slice from a DataFrame.\n",
      "Try using .loc[row_indexer,col_indexer] = value instead\n",
      "\n",
      "See the caveats in the documentation: http://pandas.pydata.org/pandas-docs/stable/indexing.html#indexing-view-versus-copy\n",
      "  \n"
     ]
    }
   ],
   "source": [
    "# Split the value in missing_or_unknown column, convert them into numeric variable\n",
    "feature_notnull = feature[feature['missing_or_unknown'].notna()]\n",
    "feature_notnull['missing_or_unknown'] = feature_notnull['missing_or_unknown'].apply(lambda x: x.split(','))"
   ]
  },
  {
   "cell_type": "code",
   "execution_count": 119,
   "metadata": {},
   "outputs": [],
   "source": [
    "# Re-encode the unknown value in each attribute as NaN based the information from feature_summary dataframe\n",
    "\n",
    "# Iterate through each attribute in feature\n",
    "for i in feature_notnull.index:\n",
    "    # Convert each value in missing_or_unknown to 'int' variable if there is\n",
    "    for value in range(len(feature_notnull.loc[i,'missing_or_unknown'])):\n",
    "        feature_notnull.loc[i,'missing_or_unknown'][value] = int(feature_notnull.loc[i,'missing_or_unknown'][value])\n",
    "\n",
    "    # Replace the unknown or missing value to NaN in azdias in the reference of feature dataframe\n",
    "    azdias.loc[:,(feature_notnull.loc[i, 'attribute'])].replace(feature_notnull.loc[i,'missing_or_unknown'], np.nan, inplace=True)\n",
    "    customers.loc[:,(feature_notnull.loc[i, 'attribute'])].replace(feature_notnull.loc[i,'missing_or_unknown'], np.nan, inplace=True)"
   ]
  },
  {
   "cell_type": "code",
   "execution_count": 122,
   "metadata": {},
   "outputs": [
    {
     "name": "stdout",
     "output_type": "stream",
     "text": [
      "Number of columns with missing data: 291\n"
     ]
    },
    {
     "data": {
      "text/html": [
       "<div>\n",
       "<style scoped>\n",
       "    .dataframe tbody tr th:only-of-type {\n",
       "        vertical-align: middle;\n",
       "    }\n",
       "\n",
       "    .dataframe tbody tr th {\n",
       "        vertical-align: top;\n",
       "    }\n",
       "\n",
       "    .dataframe thead th {\n",
       "        text-align: right;\n",
       "    }\n",
       "</style>\n",
       "<table border=\"1\" class=\"dataframe\">\n",
       "  <thead>\n",
       "    <tr style=\"text-align: right;\">\n",
       "      <th></th>\n",
       "      <th>missing_number</th>\n",
       "      <th>missing_percentage</th>\n",
       "    </tr>\n",
       "  </thead>\n",
       "  <tbody>\n",
       "    <tr>\n",
       "      <th>ALTER_KIND4</th>\n",
       "      <td>890016</td>\n",
       "      <td>99.864792</td>\n",
       "    </tr>\n",
       "    <tr>\n",
       "      <th>TITEL_KZ</th>\n",
       "      <td>889061</td>\n",
       "      <td>99.757636</td>\n",
       "    </tr>\n",
       "    <tr>\n",
       "      <th>ALTER_KIND3</th>\n",
       "      <td>885051</td>\n",
       "      <td>99.307691</td>\n",
       "    </tr>\n",
       "    <tr>\n",
       "      <th>ALTER_KIND2</th>\n",
       "      <td>861722</td>\n",
       "      <td>96.690047</td>\n",
       "    </tr>\n",
       "    <tr>\n",
       "      <th>D19_TELKO_ANZ_12</th>\n",
       "      <td>857990</td>\n",
       "      <td>96.271295</td>\n",
       "    </tr>\n",
       "    <tr>\n",
       "      <th>D19_BANKEN_ANZ_12</th>\n",
       "      <td>831734</td>\n",
       "      <td>93.325225</td>\n",
       "    </tr>\n",
       "    <tr>\n",
       "      <th>D19_TELKO_ANZ_24</th>\n",
       "      <td>826208</td>\n",
       "      <td>92.705176</td>\n",
       "    </tr>\n",
       "    <tr>\n",
       "      <th>D19_VERSI_ANZ_12</th>\n",
       "      <td>821289</td>\n",
       "      <td>92.153237</td>\n",
       "    </tr>\n",
       "    <tr>\n",
       "      <th>ALTER_KIND1</th>\n",
       "      <td>810163</td>\n",
       "      <td>90.904837</td>\n",
       "    </tr>\n",
       "    <tr>\n",
       "      <th>D19_BANKEN_ANZ_24</th>\n",
       "      <td>794100</td>\n",
       "      <td>89.102479</td>\n",
       "    </tr>\n",
       "    <tr>\n",
       "      <th>D19_VERSI_ANZ_24</th>\n",
       "      <td>777037</td>\n",
       "      <td>87.187914</td>\n",
       "    </tr>\n",
       "    <tr>\n",
       "      <th>AGER_TYP</th>\n",
       "      <td>685843</td>\n",
       "      <td>76.955435</td>\n",
       "    </tr>\n",
       "    <tr>\n",
       "      <th>EXTSEL992</th>\n",
       "      <td>654153</td>\n",
       "      <td>73.399639</td>\n",
       "    </tr>\n",
       "    <tr>\n",
       "      <th>D19_VERSAND_ANZ_12</th>\n",
       "      <td>637972</td>\n",
       "      <td>71.584040</td>\n",
       "    </tr>\n",
       "    <tr>\n",
       "      <th>D19_GESAMT_ANZ_12</th>\n",
       "      <td>584797</td>\n",
       "      <td>65.617507</td>\n",
       "    </tr>\n",
       "    <tr>\n",
       "      <th>KK_KUNDENTYP</th>\n",
       "      <td>584612</td>\n",
       "      <td>65.596749</td>\n",
       "    </tr>\n",
       "    <tr>\n",
       "      <th>D19_VERSAND_ANZ_24</th>\n",
       "      <td>563818</td>\n",
       "      <td>63.263545</td>\n",
       "    </tr>\n",
       "    <tr>\n",
       "      <th>D19_GESAMT_ANZ_24</th>\n",
       "      <td>505303</td>\n",
       "      <td>56.697834</td>\n",
       "    </tr>\n",
       "    <tr>\n",
       "      <th>KBA05_BAUMAX</th>\n",
       "      <td>476524</td>\n",
       "      <td>53.468668</td>\n",
       "    </tr>\n",
       "    <tr>\n",
       "      <th>GEBURTSJAHR</th>\n",
       "      <td>392318</td>\n",
       "      <td>44.020282</td>\n",
       "    </tr>\n",
       "  </tbody>\n",
       "</table>\n",
       "</div>"
      ],
      "text/plain": [
       "                    missing_number  missing_percentage\n",
       "ALTER_KIND4                 890016           99.864792\n",
       "TITEL_KZ                    889061           99.757636\n",
       "ALTER_KIND3                 885051           99.307691\n",
       "ALTER_KIND2                 861722           96.690047\n",
       "D19_TELKO_ANZ_12            857990           96.271295\n",
       "D19_BANKEN_ANZ_12           831734           93.325225\n",
       "D19_TELKO_ANZ_24            826208           92.705176\n",
       "D19_VERSI_ANZ_12            821289           92.153237\n",
       "ALTER_KIND1                 810163           90.904837\n",
       "D19_BANKEN_ANZ_24           794100           89.102479\n",
       "D19_VERSI_ANZ_24            777037           87.187914\n",
       "AGER_TYP                    685843           76.955435\n",
       "EXTSEL992                   654153           73.399639\n",
       "D19_VERSAND_ANZ_12          637972           71.584040\n",
       "D19_GESAMT_ANZ_12           584797           65.617507\n",
       "KK_KUNDENTYP                584612           65.596749\n",
       "D19_VERSAND_ANZ_24          563818           63.263545\n",
       "D19_GESAMT_ANZ_24           505303           56.697834\n",
       "KBA05_BAUMAX                476524           53.468668\n",
       "GEBURTSJAHR                 392318           44.020282"
      ]
     },
     "execution_count": 122,
     "metadata": {},
     "output_type": "execute_result"
    }
   ],
   "source": [
    "# Evaluate the missing value in each columns of azdias dataframe after missing_or_unknown re-encoding\n",
    "azdias_missing_col_impute = find_missing(azdias)\n",
    "azdias_missing_col_impute.head(20)"
   ]
  },
  {
   "cell_type": "code",
   "execution_count": 306,
   "metadata": {},
   "outputs": [
    {
     "data": {
      "image/png": "[encoded data removed]",
      "text/plain": [
       "<Figure size 936x504 with 1 Axes>"
      ]
     },
     "metadata": {
      "needs_background": "light"
     },
     "output_type": "display_data"
    }
   ],
   "source": [
    "# Compare the distribution of missing value percentage change before and after NaN value re-encode in azdias\n",
    "fig = plt.figure(figsize=[13,7])\n",
    "ax = plt.subplot()\n",
    "ax.spines[\"top\"].set_visible(False)    \n",
    "ax.spines[\"bottom\"].set_visible(False)    \n",
    "ax.spines[\"right\"].set_visible(False)    \n",
    "ax.spines[\"left\"].set_visible(True)\n",
    "ax.set_title('Distribution of Missing Value Percentage in Each Column of Azdias',fontname=\"verdana\").set_size(16)\n",
    "ax.set_xlabel('Missing value rate', fontname=\"verdana\").set_size(14)\n",
    "ax.set_ylabel('Count',fontname=\"verdana\").set_size(14)\n",
    "plt.xticks(fontsize=12, fontname=\"verdana\")\n",
    "plt.yticks(fontsize=12, fontname=\"verdana\")\n",
    "labels = ['Before re-encode', 'After re-encode']\n",
    "plt.hist([azdias_missing_col['missing_percentage'], azdias_missing_col_impute['missing_percentage']], label = labels)\n",
    "ax.legend(prop={'size': 14}, loc='upper right')\n",
    "plt.savefig('missing rate.png', bbox_inches='tight')"
   ]
  },
  {
   "cell_type": "code",
   "execution_count": 303,
   "metadata": {},
   "outputs": [
    {
     "name": "stdout",
     "output_type": "stream",
     "text": [
      "Number of columns with missing data: 291\n"
     ]
    },
    {
     "data": {
      "text/html": [
       "<div>\n",
       "<style scoped>\n",
       "    .dataframe tbody tr th:only-of-type {\n",
       "        vertical-align: middle;\n",
       "    }\n",
       "\n",
       "    .dataframe tbody tr th {\n",
       "        vertical-align: top;\n",
       "    }\n",
       "\n",
       "    .dataframe thead th {\n",
       "        text-align: right;\n",
       "    }\n",
       "</style>\n",
       "<table border=\"1\" class=\"dataframe\">\n",
       "  <thead>\n",
       "    <tr style=\"text-align: right;\">\n",
       "      <th></th>\n",
       "      <th>missing_number</th>\n",
       "      <th>missing_percentage</th>\n",
       "    </tr>\n",
       "  </thead>\n",
       "  <tbody>\n",
       "    <tr>\n",
       "      <th>ALTER_KIND4</th>\n",
       "      <td>191416</td>\n",
       "      <td>99.876860</td>\n",
       "    </tr>\n",
       "    <tr>\n",
       "      <th>ALTER_KIND3</th>\n",
       "      <td>190377</td>\n",
       "      <td>99.334732</td>\n",
       "    </tr>\n",
       "    <tr>\n",
       "      <th>TITEL_KZ</th>\n",
       "      <td>189340</td>\n",
       "      <td>98.793647</td>\n",
       "    </tr>\n",
       "    <tr>\n",
       "      <th>ALTER_KIND2</th>\n",
       "      <td>186552</td>\n",
       "      <td>97.338927</td>\n",
       "    </tr>\n",
       "    <tr>\n",
       "      <th>D19_TELKO_ANZ_12</th>\n",
       "      <td>184467</td>\n",
       "      <td>96.251017</td>\n",
       "    </tr>\n",
       "    <tr>\n",
       "      <th>D19_BANKEN_ANZ_12</th>\n",
       "      <td>180150</td>\n",
       "      <td>93.998497</td>\n",
       "    </tr>\n",
       "    <tr>\n",
       "      <th>ALTER_KIND1</th>\n",
       "      <td>179886</td>\n",
       "      <td>93.860748</td>\n",
       "    </tr>\n",
       "    <tr>\n",
       "      <th>D19_TELKO_ANZ_24</th>\n",
       "      <td>178411</td>\n",
       "      <td>93.091123</td>\n",
       "    </tr>\n",
       "    <tr>\n",
       "      <th>D19_VERSI_ANZ_12</th>\n",
       "      <td>177236</td>\n",
       "      <td>92.478033</td>\n",
       "    </tr>\n",
       "    <tr>\n",
       "      <th>D19_BANKEN_ANZ_24</th>\n",
       "      <td>173701</td>\n",
       "      <td>90.633544</td>\n",
       "    </tr>\n",
       "    <tr>\n",
       "      <th>D19_VERSI_ANZ_24</th>\n",
       "      <td>168832</td>\n",
       "      <td>88.093002</td>\n",
       "    </tr>\n",
       "    <tr>\n",
       "      <th>D19_VERSAND_ANZ_12</th>\n",
       "      <td>122306</td>\n",
       "      <td>63.816709</td>\n",
       "    </tr>\n",
       "    <tr>\n",
       "      <th>D19_GESAMT_ANZ_12</th>\n",
       "      <td>111999</td>\n",
       "      <td>58.438733</td>\n",
       "    </tr>\n",
       "    <tr>\n",
       "      <th>KK_KUNDENTYP</th>\n",
       "      <td>111937</td>\n",
       "      <td>58.406382</td>\n",
       "    </tr>\n",
       "    <tr>\n",
       "      <th>KBA05_BAUMAX</th>\n",
       "      <td>109535</td>\n",
       "      <td>57.153069</td>\n",
       "    </tr>\n",
       "    <tr>\n",
       "      <th>D19_VERSAND_ANZ_24</th>\n",
       "      <td>102484</td>\n",
       "      <td>53.474005</td>\n",
       "    </tr>\n",
       "    <tr>\n",
       "      <th>AGER_TYP</th>\n",
       "      <td>96738</td>\n",
       "      <td>50.475863</td>\n",
       "    </tr>\n",
       "    <tr>\n",
       "      <th>GEBURTSJAHR</th>\n",
       "      <td>93024</td>\n",
       "      <td>48.537975</td>\n",
       "    </tr>\n",
       "    <tr>\n",
       "      <th>D19_GESAMT_ANZ_24</th>\n",
       "      <td>91722</td>\n",
       "      <td>47.858619</td>\n",
       "    </tr>\n",
       "    <tr>\n",
       "      <th>EXTSEL992</th>\n",
       "      <td>85283</td>\n",
       "      <td>44.498883</td>\n",
       "    </tr>\n",
       "  </tbody>\n",
       "</table>\n",
       "</div>"
      ],
      "text/plain": [
       "                    missing_number  missing_percentage\n",
       "ALTER_KIND4                 191416           99.876860\n",
       "ALTER_KIND3                 190377           99.334732\n",
       "TITEL_KZ                    189340           98.793647\n",
       "ALTER_KIND2                 186552           97.338927\n",
       "D19_TELKO_ANZ_12            184467           96.251017\n",
       "D19_BANKEN_ANZ_12           180150           93.998497\n",
       "ALTER_KIND1                 179886           93.860748\n",
       "D19_TELKO_ANZ_24            178411           93.091123\n",
       "D19_VERSI_ANZ_12            177236           92.478033\n",
       "D19_BANKEN_ANZ_24           173701           90.633544\n",
       "D19_VERSI_ANZ_24            168832           88.093002\n",
       "D19_VERSAND_ANZ_12          122306           63.816709\n",
       "D19_GESAMT_ANZ_12           111999           58.438733\n",
       "KK_KUNDENTYP                111937           58.406382\n",
       "KBA05_BAUMAX                109535           57.153069\n",
       "D19_VERSAND_ANZ_24          102484           53.474005\n",
       "AGER_TYP                     96738           50.475863\n",
       "GEBURTSJAHR                  93024           48.537975\n",
       "D19_GESAMT_ANZ_24            91722           47.858619\n",
       "EXTSEL992                    85283           44.498883"
      ]
     },
     "execution_count": 303,
     "metadata": {},
     "output_type": "execute_result"
    }
   ],
   "source": [
    "# Evaluate the missing value in each columns of customers dataframe after missing_or_unknown re-encoding\n",
    "customers_missing_col_impute = find_missing(customers)\n",
    "customers_missing_col_impute.head(20)"
   ]
  },
  {
   "cell_type": "code",
   "execution_count": 295,
   "metadata": {},
   "outputs": [
    {
     "data": {
      "text/plain": [
       "<matplotlib.legend.Legend at 0x1c2a9c55c0>"
      ]
     },
     "execution_count": 295,
     "metadata": {},
     "output_type": "execute_result"
    },
    {
     "data": {
      "image/png": "[encoded data removed]",
      "text/plain": [
       "<Figure size 936x504 with 1 Axes>"
      ]
     },
     "metadata": {
      "needs_background": "light"
     },
     "output_type": "display_data"
    }
   ],
   "source": [
    "# Visualize the distribution of missing value percentage change before and after NaN value re-encode in customers\n",
    "fig = plt.figure(figsize=[13,7])\n",
    "ax = plt.subplot()\n",
    "ax.spines[\"top\"].set_visible(False)    \n",
    "ax.spines[\"bottom\"].set_visible(False)    \n",
    "ax.spines[\"right\"].set_visible(False)    \n",
    "ax.spines[\"left\"].set_visible(True)\n",
    "ax.set_title('Distribution of missing value percentage in each column of customers').set_size(16)\n",
    "ax.set_xlabel('Percentage of missing value %').set_size(14)\n",
    "ax.set_ylabel('Count').set_size(14)\n",
    "plt.xticks(fontsize=16)\n",
    "plt.yticks(fontsize=16)\n",
    "labels = ['Before re-encode', 'After re-encode']\n",
    "plt.hist([customers_missing_col['missing_percentage'], customers_missing_col_impute['missing_percentage']], label = labels)\n",
    "ax.legend(prop={'size': 14}, loc='upper right')"
   ]
  },
  {
   "cell_type": "markdown",
   "metadata": {},
   "source": [
    "**Comments:** After re-encoding missing/unknown value, the distribution of missing value in both Azdias and Customers shift toward higher percentage area, therefore, the next step is to directly drop columns with over 30% missing rate in both dataframes."
   ]
  },
  {
   "cell_type": "code",
   "execution_count": 124,
   "metadata": {},
   "outputs": [
    {
     "name": "stdout",
     "output_type": "stream",
     "text": [
      "There are 345 columns in azdias after column dropping\n",
      "There are 345 columns in customers after column dropping\n"
     ]
    }
   ],
   "source": [
    "# Drop Column with >30 NaN rate in azdias and customers dataframe\n",
    "drop_missing = azdias_missing_col_impute[azdias_missing_col_impute['missing_percentage']>30].index\n",
    "azdias_drop_missing = azdias.drop(columns=drop_missing)\n",
    "customers_drop_missing = customers.drop(columns=drop_missing)\n",
    "print('There are {} columns in azdias after column dropping'.format(azdias_drop_missing.shape[1]))\n",
    "print('There are {} columns in customers after column dropping'.format(customers_drop_missing.shape[1]))"
   ]
  },
  {
   "cell_type": "code",
   "execution_count": 125,
   "metadata": {},
   "outputs": [
    {
     "name": "stdout",
     "output_type": "stream",
     "text": [
      "Index(['ALTER_KIND4', 'TITEL_KZ', 'ALTER_KIND3', 'ALTER_KIND2',\n",
      "       'D19_TELKO_ANZ_12', 'D19_BANKEN_ANZ_12', 'D19_TELKO_ANZ_24',\n",
      "       'D19_VERSI_ANZ_12', 'ALTER_KIND1', 'D19_BANKEN_ANZ_24',\n",
      "       'D19_VERSI_ANZ_24', 'AGER_TYP', 'EXTSEL992', 'D19_VERSAND_ANZ_12',\n",
      "       'D19_GESAMT_ANZ_12', 'KK_KUNDENTYP', 'D19_VERSAND_ANZ_24',\n",
      "       'D19_GESAMT_ANZ_24', 'KBA05_BAUMAX', 'GEBURTSJAHR', 'ALTER_HH'],\n",
      "      dtype='object')\n"
     ]
    }
   ],
   "source": [
    "print(drop_missing)"
   ]
  },
  {
   "cell_type": "markdown",
   "metadata": {},
   "source": [
    "### Step 4. Remove highly correlated and redundant features\n",
    "In this step, the correlation coefficient of each features will be calculated in both dataframe.\n",
    "\n",
    "Any features with over 0.95 correlation coefficient will be dropped.\n",
    "\n",
    "Also, features \"CAMEO_DEU_2015, D19_LETZTER_KAUF_BRANCHE, and EINGEFUEGT_AM\" will be dropped due to too many distinct attributes. "
   ]
  },
  {
   "cell_type": "markdown",
   "metadata": {},
   "source": [
    "#### 4.1 Remove highly correlated features"
   ]
  },
  {
   "cell_type": "code",
   "execution_count": 126,
   "metadata": {},
   "outputs": [],
   "source": [
    "# Create positive correlation matrix\n",
    "corr_df = azdias_drop_missing.corr().abs()\n",
    "\n",
    "# Creat and apply mask\n",
    "mask = np.triu(np.ones_like(corr_df,dtype=bool))\n",
    "tri_df = corr_df.mask(mask)"
   ]
  },
  {
   "cell_type": "code",
   "execution_count": 127,
   "metadata": {},
   "outputs": [
    {
     "data": {
      "text/plain": [
       "12"
      ]
     },
     "execution_count": 127,
     "metadata": {},
     "output_type": "execute_result"
    }
   ],
   "source": [
    "# Find the columns that meet treshold\n",
    "to_drop = [c for c in tri_df.columns if any(tri_df[c] > 0.95)]\n",
    "len(to_drop)"
   ]
  },
  {
   "cell_type": "code",
   "execution_count": 153,
   "metadata": {},
   "outputs": [
    {
     "name": "stdout",
     "output_type": "stream",
     "text": [
      "['ANZ_HAUSHALTE_AKTIV', 'CAMEO_DEUG_2015', 'D19_VERSAND_DATUM', 'KBA13_BAUMAX', 'KBA13_FAB_SONSTIGE', 'KBA13_GBZ', 'KBA13_HHZ', 'KBA13_KMH_211', 'LP_FAMILIE_FEIN', 'LP_FAMILIE_GROB', 'LP_LEBENSPHASE_FEIN', 'LP_STATUS_FEIN']\n"
     ]
    }
   ],
   "source": [
    "print(to_drop)"
   ]
  },
  {
   "cell_type": "code",
   "execution_count": 183,
   "metadata": {},
   "outputs": [
    {
     "data": {
      "text/plain": [
       "KBA13_FAB_SONSTIGE   KBA13_HERST_SONST             1.000000\n",
       "LP_LEBENSPHASE_FEIN  LP_LEBENSPHASE_GROB           0.990153\n",
       "LP_FAMILIE_FEIN      LP_FAMILIE_GROB               0.988211\n",
       "LP_STATUS_FEIN       LP_STATUS_GROB                0.982411\n",
       "KBA13_GBZ            PLZ8_GBZ                      0.979854\n",
       "ANZ_HAUSHALTE_AKTIV  ANZ_STATISTISCHE_HAUSHALTE    0.976887\n",
       "LP_FAMILIE_GROB      LP_LEBENSPHASE_GROB           0.971096\n",
       "KBA13_HHZ            PLZ8_HHZ                      0.968725\n",
       "KBA13_KMH_211        KBA13_KMH_250                 0.960155\n",
       "LP_FAMILIE_FEIN      LP_LEBENSPHASE_GROB           0.959766\n",
       "D19_VERSAND_DATUM    D19_VERSAND_ONLINE_DATUM      0.957753\n",
       "CAMEO_DEUG_2015      CAMEO_INTL_2015               0.955588\n",
       "LP_FAMILIE_GROB      LP_LEBENSPHASE_FEIN           0.953949\n",
       "KBA13_BAUMAX         PLZ8_BAUMAX                   0.950527\n",
       "dtype: float64"
      ]
     },
     "execution_count": 183,
     "metadata": {},
     "output_type": "execute_result"
    }
   ],
   "source": [
    "# Print out the the correlation (Pearson’s R)\n",
    "tri_df.unstack().sort_values(ascending=False)[:14]"
   ]
  },
  {
   "cell_type": "code",
   "execution_count": 40,
   "metadata": {},
   "outputs": [],
   "source": [
    "# Drop the highly correlated features in both azdias and customers\n",
    "azdias_drop_corr = azdias_drop_missing.drop(to_drop, axis=1)\n",
    "customers_drop_corr = customers_drop_missing.drop(to_drop, axis=1)"
   ]
  },
  {
   "cell_type": "code",
   "execution_count": 41,
   "metadata": {},
   "outputs": [
    {
     "name": "stdout",
     "output_type": "stream",
     "text": [
      "There are 333 columns\n"
     ]
    }
   ],
   "source": [
    "print(\"There are {} columns\".format(azdias_drop_corr.shape[1]))"
   ]
  },
  {
   "cell_type": "markdown",
   "metadata": {},
   "source": [
    "#### 4.2 Drop redundant features (with too many distinct attributes)"
   ]
  },
  {
   "cell_type": "code",
   "execution_count": null,
   "metadata": {},
   "outputs": [],
   "source": [
    "# Drop CAMEO_DEU_2015, D19_LETZTER_KAUF_BRANCHE, and EINGEFUEGT_AM from orginal df\n",
    "azdias_drop_corr.drop(['CAMEO_DEU_2015', 'D19_LETZTER_KAUF_BRANCHE', 'EINGEFUEGT_AM'], axis=1, inplace=True)\n",
    "customers_drop_corr.drop(['CAMEO_DEU_2015', 'D19_LETZTER_KAUF_BRANCHE', 'EINGEFUEGT_AM'], axis=1, inplace=True)"
   ]
  },
  {
   "cell_type": "code",
   "execution_count": 44,
   "metadata": {},
   "outputs": [],
   "source": [
    "# Drop the row with > 50% missing value\n",
    "azdias_drop_corr = azdias_drop_corr[azdias_drop_corr.isnull().sum(axis=1) <= 0.5 * azdias_drop_corr.shape[1]].reset_index(drop=True)\n",
    "customers_drop_corr = customers_drop_corr[customers_drop_corr.isnull().sum(axis=1) <= 0.5*335].reset_index(drop=True)"
   ]
  },
  {
   "cell_type": "code",
   "execution_count": 45,
   "metadata": {},
   "outputs": [
    {
     "name": "stdout",
     "output_type": "stream",
     "text": [
      "There are 791244 row\n"
     ]
    }
   ],
   "source": [
    "print(\"There are {} row\".format(azdias_drop_corr.shape[0]))"
   ]
  },
  {
   "cell_type": "markdown",
   "metadata": {},
   "source": [
    "### Step 5. One-hot encode and translate categorical features\n",
    "\n",
    "This step will divide categorical features into binary and multilevel variables. Binary features will keep untouch, and convert multilevel categorical features into dummie variables.\n",
    "\n",
    "Some features possess more than one dimensional meanings, such as 'CAMEO_INTL_2015' represent wealth and life stage. Therefore, they will be split and translated into new independent features."
   ]
  },
  {
   "cell_type": "markdown",
   "metadata": {},
   "source": [
    "#### Step 5.1 Get dummies for multilevel categorical variables"
   ]
  },
  {
   "cell_type": "code",
   "execution_count": 46,
   "metadata": {},
   "outputs": [],
   "source": [
    "# Identify binary and multilevel categorical variables\n",
    "cat_col = feature[feature['type']=='categorical']['attribute']\n",
    "cat_col = [x for x in cat_col if x in azdias_drop_corr.columns]\n",
    "binary = []\n",
    "multilevel = []\n",
    "\n",
    "for col in cat_col:\n",
    "    if azdias_drop_corr[col].nunique() == 2:\n",
    "        binary.append(col)\n",
    "    if (azdias_drop_corr[col].nunique() > 2) & (azdias_drop_corr[col].nunique() < 30):\n",
    "        multilevel.append(col)"
   ]
  },
  {
   "cell_type": "code",
   "execution_count": 47,
   "metadata": {},
   "outputs": [
    {
     "data": {
      "text/plain": [
       "['CJT_GESAMTTYP',\n",
       " 'FINANZTYP',\n",
       " 'GFK_URLAUBERTYP',\n",
       " 'LP_STATUS_GROB',\n",
       " 'NATIONALITAET_KZ',\n",
       " 'SHOPPER_TYP',\n",
       " 'ZABEOTYP',\n",
       " 'GEBAEUDETYP']"
      ]
     },
     "execution_count": 47,
     "metadata": {},
     "output_type": "execute_result"
    }
   ],
   "source": [
    "print(multilevel)"
   ]
  },
  {
   "cell_type": "code",
   "execution_count": 49,
   "metadata": {},
   "outputs": [],
   "source": [
    "# Get dummie for multilevel feature, keep binary untouch\n",
    "for feature in multilevel:\n",
    "    #Get dummie for azdias\n",
    "    azdias_notnull = azdias_drop_corr[feature][azdias_drop_corr[feature].notnull()]\n",
    "    dummie_azdias = pd.get_dummies(azdias_notnull,prefix=feature)\n",
    "    azdias_drop_corr.drop(feature, axis=1, inplace=True)\n",
    "    azdias_drop_corr = pd.concat([azdias_drop_corr, dummie_azdias], axis = 1)\n",
    "    # Get dummie for customer\n",
    "    customers_notnull = customers_drop_corr[feature][customers_drop_corr[feature].notnull()]\n",
    "    dummie_customers = pd.get_dummies(customers_notnull,prefix=feature)\n",
    "    customers_drop_corr.drop(feature, axis=1, inplace=True)\n",
    "    customers_drop_corr = pd.concat([customers_drop_corr, dummie_customers], axis = 1)"
   ]
  },
  {
   "cell_type": "markdown",
   "metadata": {},
   "source": [
    "#### Step 5.2 Translate multi-dimensional variables"
   ]
  },
  {
   "cell_type": "code",
   "execution_count": 50,
   "metadata": {},
   "outputs": [],
   "source": [
    "# Identify the mixed-type features\n",
    "mix_col = ['LP_LEBENSPHASE_GROB', 'PRAEGENDE_JUGENDJAHRE', 'WOHNLAGE', 'CAMEO_INTL_2015','PLZ8_BAUMAX']"
   ]
  },
  {
   "cell_type": "markdown",
   "metadata": {},
   "source": [
    "PRAEGENDE_JUGENDJAHRE: dominating movement in the person's youth (avantgarde or mainstream)\n",
    "\n",
    "CAMEO_INTL_2015: wealth and life stage"
   ]
  },
  {
   "cell_type": "code",
   "execution_count": 53,
   "metadata": {},
   "outputs": [],
   "source": [
    "# Re-encode PRAEGENDE_JUGENDJAHRE into two dimensions, 1. decades 2. movement (avantgarde or mainstream)\n",
    "decade = {1: 40, 2: 40, 3: 50, 4: 50, 5: 60, 6: 60, 7: 60, 8: 70, 9: 70, 10: 80, 11: 80, 12: 80, 13: 80, 14: 90, 15: 90,\n",
    "           np.nan: np.nan, -1: np.nan, 0: np.nan}\n",
    "# mainstream 0, avantgarde 1\n",
    "movement = {1: 0, 2: 1, 3: 0, 4: 1, 5: 0, 6: 1, 7: 1, 8: 0, 9: 1, 10: 0, 11: 1, 12: 0, 13: 1, 14: 0, 15: 1,\n",
    "           np.nan: np.nan, -1: np.nan, 0: np.nan}\n",
    "azdias_drop_corr['Decade'] = azdias_drop_corr['PRAEGENDE_JUGENDJAHRE'].map(decade)\n",
    "customers_drop_corr['Decade'] = customers_drop_corr['PRAEGENDE_JUGENDJAHRE'].map(decade)\n",
    "azdias_drop_corr['Movement'] = azdias_drop_corr['PRAEGENDE_JUGENDJAHRE'].map(movement)\n",
    "customers_drop_corr['Movement'] = customers_drop_corr['PRAEGENDE_JUGENDJAHRE'].map(movement)"
   ]
  },
  {
   "cell_type": "code",
   "execution_count": 54,
   "metadata": {},
   "outputs": [],
   "source": [
    "# CAMEO_INTL_2015 is two-digit number, first digit represent wealth, second represent life stage.\n",
    "# Break into two new variable by each digit\n",
    "wealth = {11: 1, 12: 1, 13: 1, 14: 1, 15: 1, 21: 2, 22: 2, 23: 2, 24: 2, 25: 2, 31: 3, 32: 3, 33: 3, 34: 3, 35: 3, \n",
    "         41: 4, 42: 4, 43: 4, 44: 4, 45: 4, 51: 5, 52: 5, 53: 5, 54: 5, 55: 5, -1: np.nan}\n",
    "life_stage = {11: 1, 12: 2, 13: 3, 14: 4, 15: 5, 21: 1, 22: 2, 23: 3, 24: 4, 25: 5, 31: 1, 32: 2, 33: 3, 34: 4, 35: 5,\n",
    "             41: 1, 42: 2, 43: 3, 44: 4, 45: 5, 51: 1, 52: 2, 53: 3, 54: 4, 55: 5, -1: np.nan}\n",
    "azdias_drop_corr['Wealth'] = azdias_drop_corr['CAMEO_INTL_2015'].map(wealth)\n",
    "customers_drop_corr['Wealth'] = customers_drop_corr['CAMEO_INTL_2015'].map(wealth)\n",
    "azdias_drop_corr['Life_stage'] = azdias_drop_corr['CAMEO_INTL_2015'].map(life_stage)\n",
    "customers_drop_corr['Life_stage'] = customers_drop_corr['CAMEO_INTL_2015'].map(life_stage)"
   ]
  },
  {
   "cell_type": "code",
   "execution_count": 55,
   "metadata": {},
   "outputs": [],
   "source": [
    "# Get dummies for rest of mixed-type features\n",
    "mix_dummies = ['LP_LEBENSPHASE_GROB', 'WOHNLAGE', 'PLZ8_BAUMAX']\n",
    "for feature in mix_dummies:\n",
    "    #Get dummie for azdias\n",
    "    azdias_notnull = azdias_drop_corr[feature][azdias_drop_corr[feature].notnull()]\n",
    "    dummie_azdias = pd.get_dummies(azdias_notnull,prefix=feature)\n",
    "    azdias_drop_corr = pd.concat([azdias_drop_corr, dummie_azdias], axis = 1)\n",
    "    customers_notnull = customers_drop_corr[feature][customers_drop_corr[feature].notnull()]\n",
    "    dummie_customers = pd.get_dummies(customers_notnull,prefix=feature)\n",
    "    customers_drop_corr = pd.concat([customers_drop_corr, dummie_customers], axis = 1)"
   ]
  },
  {
   "cell_type": "code",
   "execution_count": 56,
   "metadata": {},
   "outputs": [],
   "source": [
    "# Drop original mixed-type features\n",
    "azdias_clean = azdias_drop_corr.drop(mix_col, axis=1)\n",
    "customers_clean = customers_drop_corr.drop(mix_col, axis=1)"
   ]
  },
  {
   "cell_type": "code",
   "execution_count": 57,
   "metadata": {},
   "outputs": [
    {
     "name": "stdout",
     "output_type": "stream",
     "text": [
      "['GEBAEUDETYP_5.0']\n"
     ]
    }
   ],
   "source": [
    "# Check if azidas has same columns as customer dataframe\n",
    "print(np.setdiff1d(azdias_clean.columns,customers_clean.columns))"
   ]
  },
  {
   "cell_type": "code",
   "execution_count": 58,
   "metadata": {},
   "outputs": [],
   "source": [
    "# Create the missing column in Customers\n",
    "customers_clean['GEBAEUDETYP_5.0'] = 0\n",
    "customers_clean['GEBAEUDETYP_5.0'] = customers_clean['GEBAEUDETYP_5.0'].astype('uint8')"
   ]
  },
  {
   "cell_type": "code",
   "execution_count": 61,
   "metadata": {},
   "outputs": [],
   "source": [
    "# Save the clean dataframe as pickle files\n",
    "azdias_clean.to_pickle('./azdias_clean.pkl')\n",
    "customers_clean.to_pickle('./customers_clean.pkl')"
   ]
  },
  {
   "cell_type": "markdown",
   "metadata": {},
   "source": [
    "## Part 1: Customer Segmentation Report\n",
    "\n",
    "The main bulk of your analysis will come in this part of the project. Here, you should use unsupervised learning techniques to describe the relationship between the demographics of the company's existing customers and the general population of Germany. By the end of this part, you should be able to describe parts of the general population that are more likely to be part of the mail-order company's main customer base, and which parts of the general population are less so."
   ]
  },
  {
   "cell_type": "markdown",
   "metadata": {},
   "source": [
    "#### Step 1. Principal component analysis (PCA)"
   ]
  },
  {
   "cell_type": "code",
   "execution_count": 4,
   "metadata": {},
   "outputs": [],
   "source": [
    "# Load cleaned azdias dataframe and impute the missing value with 'mode'\n",
    "azdias_clean = pd.read_pickle('./azdias_clean.pkl')\n",
    "imputer = SimpleImputer(strategy='most_frequent')\n",
    "azdias_imputed = pd.DataFrame(imputer.fit_transform(azdias_clean.values), columns= azdias_clean.columns)"
   ]
  },
  {
   "cell_type": "code",
   "execution_count": 5,
   "metadata": {},
   "outputs": [
    {
     "name": "stdout",
     "output_type": "stream",
     "text": [
      "Number of columns with missing data: 0\n"
     ]
    },
    {
     "data": {
      "text/html": [
       "<div>\n",
       "<style scoped>\n",
       "    .dataframe tbody tr th:only-of-type {\n",
       "        vertical-align: middle;\n",
       "    }\n",
       "\n",
       "    .dataframe tbody tr th {\n",
       "        vertical-align: top;\n",
       "    }\n",
       "\n",
       "    .dataframe thead th {\n",
       "        text-align: right;\n",
       "    }\n",
       "</style>\n",
       "<table border=\"1\" class=\"dataframe\">\n",
       "  <thead>\n",
       "    <tr style=\"text-align: right;\">\n",
       "      <th></th>\n",
       "      <th>missing_number</th>\n",
       "      <th>missing_percentage</th>\n",
       "    </tr>\n",
       "  </thead>\n",
       "  <tbody>\n",
       "  </tbody>\n",
       "</table>\n",
       "</div>"
      ],
      "text/plain": [
       "Empty DataFrame\n",
       "Columns: [missing_number, missing_percentage]\n",
       "Index: []"
      ]
     },
     "execution_count": 5,
     "metadata": {},
     "output_type": "execute_result"
    }
   ],
   "source": [
    "# Check if there are any missing value in dataframe\n",
    "find_missing(azdias_imputed)"
   ]
  },
  {
   "cell_type": "code",
   "execution_count": 5,
   "metadata": {},
   "outputs": [],
   "source": [
    "# Scale the data by Standard Scaler\n",
    "scaler = StandardScaler()\n",
    "azdias_scaled = pd.DataFrame(scaler.fit_transform(azdias_imputed.values),columns=azdias_imputed.columns)"
   ]
  },
  {
   "cell_type": "code",
   "execution_count": 265,
   "metadata": {},
   "outputs": [],
   "source": [
    "# Apply a PCA to azdias\n",
    "pca = PCA(random_state=42)\n",
    "azdias_pca = pca.fit_transform(azdias_scaled)"
   ]
  },
  {
   "cell_type": "code",
   "execution_count": 307,
   "metadata": {
    "scrolled": false
   },
   "outputs": [
    {
     "data": {
      "image/png": "[encoded data removed]",
      "text/plain": [
       "<Figure size 936x504 with 1 Axes>"
      ]
     },
     "metadata": {
      "needs_background": "light"
     },
     "output_type": "display_data"
    }
   ],
   "source": [
    "# Visualize the explained variance distribution\n",
    "fig = plt.figure(figsize=[13,7])\n",
    "ax = plt.subplot(111)\n",
    "ax.spines[\"top\"].set_visible(False)    \n",
    "ax.spines[\"bottom\"].set_visible(True)    \n",
    "ax.spines[\"right\"].set_visible(False)    \n",
    "ax.spines[\"left\"].set_visible(True)\n",
    "plt.ylabel('Cumulative Explained Variance',fontname=\"verdana\").set_size(14)\n",
    "plt.xlabel('Principal Components', fontname=\"verdana\").set_size(14)\n",
    "plt.title('Explained Variance Per Principal Component', fontname=\"verdana\").set_size(16)\n",
    "plt.xticks(fontsize=12, fontname=\"verdana\")\n",
    "plt.yticks(fontsize=12, fontname=\"verdana\")\n",
    "ax.plot(np.cumsum(pca.explained_variance_ratio_))\n",
    "plt.hlines(y=0.883204071091655, xmin=0, xmax=200, color='black', linestyles='--')\n",
    "plt.vlines(x=200, ymin=0, ymax=0.883204071091655, color='black', linestyles='--')\n",
    "plt.savefig('PCA.png', bbox_inches='tight')\n",
    "plt.show()"
   ]
  },
  {
   "cell_type": "markdown",
   "metadata": {},
   "source": [
    "**Discussion:** From the plot, we can see when the principal components reduce to 200, it can still achieve around 88% variance of original data. So I decide to take the number of principal component as 200, re-fit into the azdias data."
   ]
  },
  {
   "cell_type": "code",
   "execution_count": 207,
   "metadata": {},
   "outputs": [],
   "source": [
    "# Re-fit the data with 200 principal components\n",
    "n_components=200\n",
    "pca = PCA(n_components=n_components,random_state=42)\n",
    "azdias_pca = pca.fit_transform(azdias_scaled)"
   ]
  },
  {
   "cell_type": "code",
   "execution_count": 208,
   "metadata": {},
   "outputs": [
    {
     "name": "stdout",
     "output_type": "stream",
     "text": [
      "0.883204071091655\n"
     ]
    }
   ],
   "source": [
    "print(sum(pca.explained_variance_ratio_))"
   ]
  },
  {
   "cell_type": "code",
   "execution_count": 209,
   "metadata": {},
   "outputs": [],
   "source": [
    "# Repeat same procedures for customers dataset\n",
    "customers_clean = pd.read_pickle('./customers_clean.pkl')\n",
    "customers_imputed = pd.DataFrame(imputer.transform(customers_clean.values), columns= customers_clean.columns)\n",
    "customers_scaled = pd.DataFrame(scaler.transform(customers_imputed.values),columns=customers_imputed.columns)"
   ]
  },
  {
   "cell_type": "code",
   "execution_count": 210,
   "metadata": {},
   "outputs": [],
   "source": [
    "# Apply PCA to customers\n",
    "customers_pca = pca.transform(customers_scaled)"
   ]
  },
  {
   "cell_type": "markdown",
   "metadata": {},
   "source": [
    "#### Step 2. Determine the number of cluster by elbow method"
   ]
  },
  {
   "cell_type": "code",
   "execution_count": 211,
   "metadata": {},
   "outputs": [],
   "source": [
    "# Number of different cluster counts\n",
    "n_clusters = np.arange(2,21)\n",
    "# run k-means clustering on the data and compute the average within-cluster distances.\n",
    "scores = [MiniBatchKMeans(i).fit(azdias_pca).score(azdias_pca) for i in n_clusters]"
   ]
  },
  {
   "cell_type": "code",
   "execution_count": 308,
   "metadata": {},
   "outputs": [
    {
     "data": {
      "image/png": "[encoded data removed]",
      "text/plain": [
       "<Figure size 936x504 with 1 Axes>"
      ]
     },
     "metadata": {
      "needs_background": "light"
     },
     "output_type": "display_data"
    }
   ],
   "source": [
    "# Visualize the score and cluster number\n",
    "fig = plt.figure(figsize=[13,7])\n",
    "ax = plt.subplot(111)\n",
    "ax.spines[\"top\"].set_visible(False)    \n",
    "ax.spines[\"bottom\"].set_visible(True)    \n",
    "ax.spines[\"right\"].set_visible(False)    \n",
    "ax.spines[\"left\"].set_visible(True)\n",
    "plt.ylabel('K-Means Scores', fontname=\"verdana\").set_size(14)\n",
    "plt.xlabel('Number of Clusters', fontname=\"verdana\").set_size(14)\n",
    "plt.title('The Elbow method for Determining the Number of Cluster', fontname=\"verdana\").set_size(16)\n",
    "plt.xticks(fontsize=12, fontname=\"verdana\")\n",
    "plt.yticks(fontsize=12, fontname=\"verdana\")\n",
    "ax.plot(n_clusters, np.abs(scores), linestyle='--', marker='o', color='black');\n",
    "plt.savefig('Elbow.png', bbox_inches='tight')"
   ]
  },
  {
   "cell_type": "markdown",
   "metadata": {},
   "source": [
    "**Discussion:** From the result, we can see a significant elbow point appear at 8. So I took 8 as the optimal cluster number."
   ]
  },
  {
   "cell_type": "code",
   "execution_count": 216,
   "metadata": {},
   "outputs": [],
   "source": [
    "# Re-fit k-means model with 8 number of clusters\n",
    "model = KMeans(n_clusters=8, random_state=42)\n",
    "azdias_preds = model.fit_predict(azdias_pca)\n",
    "customers_preds = model.predict(customers_pca)"
   ]
  },
  {
   "cell_type": "markdown",
   "metadata": {},
   "source": [
    "#### Step 3. Clustering"
   ]
  },
  {
   "cell_type": "code",
   "execution_count": 217,
   "metadata": {},
   "outputs": [],
   "source": [
    "# Store the demographics information in each cluster\n",
    "counts_population = pd.Series(azdias_preds).value_counts().sort_index()\n",
    "\n",
    "prop_population = []\n",
    "for value in counts_population:\n",
    "    prop = value / len(azdias_preds)\n",
    "    prop_population.append(prop)\n",
    "\n",
    "prop_population = pd.Series(prop_population)"
   ]
  },
  {
   "cell_type": "code",
   "execution_count": 218,
   "metadata": {},
   "outputs": [],
   "source": [
    "# Store the customer information in each cluster\n",
    "counts_customers = pd.Series(customers_preds).value_counts().sort_index()\n",
    "\n",
    "prop_customers = []\n",
    "for value in counts_customers:\n",
    "    prop = value / len(customers_preds)\n",
    "    prop_customers.append(prop)\n",
    "\n",
    "prop_customers = pd.Series(prop_customers)"
   ]
  },
  {
   "cell_type": "code",
   "execution_count": 311,
   "metadata": {},
   "outputs": [
    {
     "data": {
      "image/png": "[encoded data removed]",
      "text/plain": [
       "<Figure size 720x504 with 1 Axes>"
      ]
     },
     "metadata": {
      "needs_background": "light"
     },
     "output_type": "display_data"
    }
   ],
   "source": [
    "# Compare the proportion of data in each cluster for the customer data to the proportion of data in each cluster for the general population.\n",
    "\n",
    "prop_distribution = pd.DataFrame({'Cluster': [0,1,2,3,4,5,6,7], 'General Population': prop_population,\n",
    "                     'Customers': prop_customers})\n",
    "pro_plot = prop_distribution.melt(id_vars = \"Cluster\", var_name='cols',  value_name='vals')\n",
    "fig = plt.figure(figsize=(10,7))\n",
    "ax = sns.barplot(x='Cluster', y=\"vals\", hue='cols', data=pro_plot)\n",
    "handles, labels = ax.get_legend_handles_labels()\n",
    "ax.legend(handles=handles[:], labels=labels[:])\n",
    "ax.spines[\"top\"].set_visible(False)    \n",
    "ax.spines[\"bottom\"].set_visible(False)    \n",
    "ax.spines[\"right\"].set_visible(False)    \n",
    "ax.spines[\"left\"].set_visible(True)\n",
    "plt.ylabel('Proportion', fontname=\"verdana\").set_size(18)\n",
    "plt.xlabel('Clusters', fontname=\"verdana\").set_size(18)\n",
    "plt.xticks(fontsize=16, fontname=\"verdana\")\n",
    "plt.yticks(fontsize=16, fontname=\"verdana\")\n",
    "plt.title('Cluster Distribution between General Population and Customers', fontname=\"verdana\").set_size(20)\n",
    "plt.savefig('Prob distribution.png',bbox_inches='tight')"
   ]
  },
  {
   "cell_type": "code",
   "execution_count": 255,
   "metadata": {},
   "outputs": [],
   "source": [
    "# Compute the proportional difference between general population and customers\n",
    "diff = prop_customers - prop_population\n",
    "diff_df = pd.DataFrame(columns=['Cluster', 'Difference'])\n",
    "for i, j in diff.items():\n",
    "    diff_df = diff_df.append({\"Cluster\": i, \"Difference\": j}, ignore_index=True)"
   ]
  },
  {
   "cell_type": "code",
   "execution_count": 316,
   "metadata": {},
   "outputs": [
    {
     "data": {
      "image/png": "[encoded data removed]",
      "text/plain": [
       "<Figure size 720x504 with 1 Axes>"
      ]
     },
     "metadata": {
      "needs_background": "light"
     },
     "output_type": "display_data"
    }
   ],
   "source": [
    "# Visualize the difference\n",
    "fig = plt.figure(figsize=(10,7))\n",
    "ax = sns.barplot(x = diff_df['Cluster'], y = diff_df['Difference'])\n",
    "ax.spines[\"top\"].set_visible(False)    \n",
    "ax.spines[\"bottom\"].set_visible(False)    \n",
    "ax.spines[\"right\"].set_visible(False)    \n",
    "ax.spines[\"left\"].set_visible(True)\n",
    "plt.ylabel('Proportion', fontname=\"verdana\").set_size(18)\n",
    "plt.xlabel('Clusters', fontname=\"verdana\").set_size(18)\n",
    "plt.xticks(fontsize=16, fontname=\"verdana\")\n",
    "plt.yticks(fontsize=16, fontname=\"verdana\")\n",
    "plt.title('Difference in Proportion Between General Population and Customers', fontname=\"verdana\").set_size(20)\n",
    "plt.savefig('difference.png', bbox_inches='tight')"
   ]
  },
  {
   "cell_type": "markdown",
   "metadata": {},
   "source": [
    "**Discussion:** Cluster 7 is the major customers base in the company, since it has the highest customer proportion among the others, can be considered as the loyal customer of company. While in Cluster 2, it not only shows lowest customer percentage, but also exhibits highest negative difference between general population and customers proportion, indicating that very small portion of general population in Cluster 2 have become the customer of company. However, if the company adapt a more tailored marketing strategy on Cluster 2, they have the highest potential to become new customers in the future. "
   ]
  },
  {
   "cell_type": "markdown",
   "metadata": {},
   "source": [
    "#### Step 4. Decomposition Cluster 7 and 2"
   ]
  },
  {
   "cell_type": "code",
   "execution_count": 16,
   "metadata": {},
   "outputs": [],
   "source": [
    "def finding_components(n_cluster, n_components, model = model):\n",
    "    \"\"\"\n",
    "    Finding the most important components in specified cluster.\n",
    "    \n",
    "    INPUT:\n",
    "    - n_cluster (int): number of cluster to be evaluated\n",
    "    - n_components (int): number of top important components\n",
    "    - model: k-means method model       \n",
    "    OUTPUT:\n",
    "    - components (series): containing component number and its explained_variance_ratio\n",
    "    \"\"\"\n",
    "    center = model.cluster_centers_[n_cluster]\n",
    "    center = pd.Series(center)\n",
    "    center.index = center.index+1\n",
    "    components = list(center.sort_values(ascending=False)[:n_components].index)\n",
    "    return components"
   ]
  },
  {
   "cell_type": "code",
   "execution_count": 62,
   "metadata": {},
   "outputs": [],
   "source": [
    "def finding_features(n_components, n_features):\n",
    "    \"\"\"\n",
    "    Finding the most important features in specified principal component.\n",
    "    \n",
    "    INPUT:\n",
    "    - n_components (list): number of component to be evaluated\n",
    "    - n_features (int): number of top important features      \n",
    "    OUTPUT:\n",
    "    - positive_features (list): positive related features\n",
    "    - negative_features (list): negative related features\n",
    "    \"\"\"\n",
    "    ratio = pd.DataFrame(pca.explained_variance_ratio_,columns = ['EXPLAINED_VARIANCE'])\n",
    "    weights = pd.DataFrame(pca.components_, columns = azdias_clean.columns.values)\n",
    "    df = pd.concat([ratio, weights], axis = 1,  join_axes=[ratio.index])\n",
    "    positive_features = df.iloc[(n_components)-1].sort_values(ascending=False)[:n_features]\n",
    "    negative_features = df.iloc[(n_components)-1].sort_values()[:n_features]\n",
    "    return positive_features, negative_features"
   ]
  },
  {
   "cell_type": "code",
   "execution_count": 18,
   "metadata": {},
   "outputs": [],
   "source": [
    "def feature_value(positive_features, negative_features, n_cluster):\n",
    "    \"\"\"\n",
    "    Finding the value of most important positive&negative features in specified cluster\n",
    "    \n",
    "    INPUT:\n",
    "    - positive_features (list): list of positive related features\n",
    "    - negative_feature (list): list of negative related features\n",
    "    - n_cluster (int): number of cluster to be evaluated\n",
    "            \n",
    "    OUTPUT:\n",
    "    - df_positive (dataframe): containing positive features and their values\n",
    "    - df_negative (dataframe): containing negative features and their values\n",
    "    \"\"\"\n",
    "    center = model.cluster_centers_[n_cluster]\n",
    "    center_inv = scaler.inverse_transform(pca.inverse_transform(center))\n",
    "    df = pd.DataFrame({'Features': azdias_clean.columns, 'Values': center_inv}).sort_values('Values', axis=0, ascending=False)\n",
    "    df_positive = df[df['Features'].isin(positive_features)]\n",
    "    df_negative = df[df['Features'].isin(negative_features)]\n",
    "    return df_positive, df_negative"
   ]
  },
  {
   "cell_type": "code",
   "execution_count": 63,
   "metadata": {},
   "outputs": [],
   "source": [
    "def cluster_evaluation(n_cluster, n_component, n_feature):\n",
    "    \"\"\"\n",
    "    Evaluate the important features for certain cluster, and their feature values\n",
    "    \n",
    "    INPUT:\n",
    "    - n_cluster (int): number of cluster want to study\n",
    "    - n_component (int): number of component to be included\n",
    "    - n_feature (int): number of features to be included\n",
    "            \n",
    "    OUTPUT:\n",
    "    - df_positive (dataframe): containing positive features and their values\n",
    "    - df_negative (dataframe): containing negative features and their values\n",
    "    \"\"\"\n",
    "    pc = finding_components(n_cluster, n_component)\n",
    "    p_total = []\n",
    "    n_total = []\n",
    "    for i in pc:\n",
    "        p,n = finding_features(i,n_feature)\n",
    "        p_df, n_df= feature_value(p.index,n.index,n_cluster)\n",
    "        p_total.append(p_df)\n",
    "        n_total.append(n_df)\n",
    "    df_positive = pd.concat(p_total)\n",
    "    df_negative = pd.concat(n_total)\n",
    "    \n",
    "    return df_positive, df_negative"
   ]
  },
  {
   "cell_type": "code",
   "execution_count": 64,
   "metadata": {},
   "outputs": [],
   "source": [
    "# Decomposition Cluster 7\n",
    "cluster7_p, cluster7_n = cluster_evaluation(7,2,5)"
   ]
  },
  {
   "cell_type": "code",
   "execution_count": 65,
   "metadata": {},
   "outputs": [
    {
     "data": {
      "text/html": [
       "<div>\n",
       "<style scoped>\n",
       "    .dataframe tbody tr th:only-of-type {\n",
       "        vertical-align: middle;\n",
       "    }\n",
       "\n",
       "    .dataframe tbody tr th {\n",
       "        vertical-align: top;\n",
       "    }\n",
       "\n",
       "    .dataframe thead th {\n",
       "        text-align: right;\n",
       "    }\n",
       "</style>\n",
       "<table border=\"1\" class=\"dataframe\">\n",
       "  <thead>\n",
       "    <tr style=\"text-align: right;\">\n",
       "      <th></th>\n",
       "      <th>Features</th>\n",
       "      <th>Values</th>\n",
       "    </tr>\n",
       "  </thead>\n",
       "  <tbody>\n",
       "    <tr>\n",
       "      <th>271</th>\n",
       "      <td>MOBI_REGIO</td>\n",
       "      <td>4.056093</td>\n",
       "    </tr>\n",
       "    <tr>\n",
       "      <th>270</th>\n",
       "      <td>MOBI_RASTER</td>\n",
       "      <td>3.299245</td>\n",
       "    </tr>\n",
       "    <tr>\n",
       "      <th>275</th>\n",
       "      <td>PLZ8_ANTG1</td>\n",
       "      <td>2.821930</td>\n",
       "    </tr>\n",
       "    <tr>\n",
       "      <th>158</th>\n",
       "      <td>KBA13_ANTG1</td>\n",
       "      <td>2.669072</td>\n",
       "    </tr>\n",
       "    <tr>\n",
       "      <th>390</th>\n",
       "      <td>PLZ8_BAUMAX_1.0</td>\n",
       "      <td>0.914532</td>\n",
       "    </tr>\n",
       "    <tr>\n",
       "      <th>81</th>\n",
       "      <td>FINANZ_VORSORGER</td>\n",
       "      <td>4.533464</td>\n",
       "    </tr>\n",
       "    <tr>\n",
       "      <th>15</th>\n",
       "      <td>CJT_TYP_5</td>\n",
       "      <td>4.294945</td>\n",
       "    </tr>\n",
       "    <tr>\n",
       "      <th>16</th>\n",
       "      <td>CJT_TYP_6</td>\n",
       "      <td>4.257022</td>\n",
       "    </tr>\n",
       "    <tr>\n",
       "      <th>14</th>\n",
       "      <td>CJT_TYP_4</td>\n",
       "      <td>4.175917</td>\n",
       "    </tr>\n",
       "    <tr>\n",
       "      <th>316</th>\n",
       "      <td>ALTERSKATEGORIE_GROB</td>\n",
       "      <td>3.421129</td>\n",
       "    </tr>\n",
       "  </tbody>\n",
       "</table>\n",
       "</div>"
      ],
      "text/plain": [
       "                 Features    Values\n",
       "271            MOBI_REGIO  4.056093\n",
       "270           MOBI_RASTER  3.299245\n",
       "275            PLZ8_ANTG1  2.821930\n",
       "158           KBA13_ANTG1  2.669072\n",
       "390       PLZ8_BAUMAX_1.0  0.914532\n",
       "81       FINANZ_VORSORGER  4.533464\n",
       "15              CJT_TYP_5  4.294945\n",
       "16              CJT_TYP_6  4.257022\n",
       "14              CJT_TYP_4  4.175917\n",
       "316  ALTERSKATEGORIE_GROB  3.421129"
      ]
     },
     "execution_count": 65,
     "metadata": {},
     "output_type": "execute_result"
    }
   ],
   "source": [
    "# The positively correlated feature for Cluster 7\n",
    "cluster7_p"
   ]
  },
  {
   "cell_type": "code",
   "execution_count": 66,
   "metadata": {},
   "outputs": [
    {
     "data": {
      "text/html": [
       "<div>\n",
       "<style scoped>\n",
       "    .dataframe tbody tr th:only-of-type {\n",
       "        vertical-align: middle;\n",
       "    }\n",
       "\n",
       "    .dataframe tbody tr th {\n",
       "        vertical-align: top;\n",
       "    }\n",
       "\n",
       "    .dataframe thead th {\n",
       "        text-align: right;\n",
       "    }\n",
       "</style>\n",
       "<table border=\"1\" class=\"dataframe\">\n",
       "  <thead>\n",
       "    <tr style=\"text-align: right;\">\n",
       "      <th></th>\n",
       "      <th>Features</th>\n",
       "      <th>Values</th>\n",
       "    </tr>\n",
       "  </thead>\n",
       "  <tbody>\n",
       "    <tr>\n",
       "      <th>160</th>\n",
       "      <td>KBA13_ANTG3</td>\n",
       "      <td>1.207602</td>\n",
       "    </tr>\n",
       "    <tr>\n",
       "      <th>277</th>\n",
       "      <td>PLZ8_ANTG3</td>\n",
       "      <td>1.184289</td>\n",
       "    </tr>\n",
       "    <tr>\n",
       "      <th>278</th>\n",
       "      <td>PLZ8_ANTG4</td>\n",
       "      <td>0.374351</td>\n",
       "    </tr>\n",
       "    <tr>\n",
       "      <th>161</th>\n",
       "      <td>KBA13_ANTG4</td>\n",
       "      <td>0.353822</td>\n",
       "    </tr>\n",
       "    <tr>\n",
       "      <th>341</th>\n",
       "      <td>LP_STATUS_GROB_1.0</td>\n",
       "      <td>0.041462</td>\n",
       "    </tr>\n",
       "    <tr>\n",
       "      <th>366</th>\n",
       "      <td>Decade</td>\n",
       "      <td>62.471505</td>\n",
       "    </tr>\n",
       "    <tr>\n",
       "      <th>11</th>\n",
       "      <td>CJT_TYP_1</td>\n",
       "      <td>2.218762</td>\n",
       "    </tr>\n",
       "    <tr>\n",
       "      <th>12</th>\n",
       "      <td>CJT_TYP_2</td>\n",
       "      <td>1.920328</td>\n",
       "    </tr>\n",
       "    <tr>\n",
       "      <th>76</th>\n",
       "      <td>FINANZ_ANLEGER</td>\n",
       "      <td>1.568542</td>\n",
       "    </tr>\n",
       "    <tr>\n",
       "      <th>79</th>\n",
       "      <td>FINANZ_SPARER</td>\n",
       "      <td>1.392866</td>\n",
       "    </tr>\n",
       "  </tbody>\n",
       "</table>\n",
       "</div>"
      ],
      "text/plain": [
       "               Features     Values\n",
       "160         KBA13_ANTG3   1.207602\n",
       "277          PLZ8_ANTG3   1.184289\n",
       "278          PLZ8_ANTG4   0.374351\n",
       "161         KBA13_ANTG4   0.353822\n",
       "341  LP_STATUS_GROB_1.0   0.041462\n",
       "366              Decade  62.471505\n",
       "11            CJT_TYP_1   2.218762\n",
       "12            CJT_TYP_2   1.920328\n",
       "76       FINANZ_ANLEGER   1.568542\n",
       "79        FINANZ_SPARER   1.392866"
      ]
     },
     "execution_count": 66,
     "metadata": {},
     "output_type": "execute_result"
    }
   ],
   "source": [
    "# The negatively correlated feature for Cluster 7\n",
    "cluster7_n"
   ]
  },
  {
   "cell_type": "code",
   "execution_count": 53,
   "metadata": {},
   "outputs": [],
   "source": [
    "# Decomposition Cluster 2\n",
    "cluster2_p, cluster2_n = cluster_evaluation(2,2,5)"
   ]
  },
  {
   "cell_type": "code",
   "execution_count": 54,
   "metadata": {},
   "outputs": [
    {
     "data": {
      "text/html": [
       "<div>\n",
       "<style scoped>\n",
       "    .dataframe tbody tr th:only-of-type {\n",
       "        vertical-align: middle;\n",
       "    }\n",
       "\n",
       "    .dataframe tbody tr th {\n",
       "        vertical-align: top;\n",
       "    }\n",
       "\n",
       "    .dataframe thead th {\n",
       "        text-align: right;\n",
       "    }\n",
       "</style>\n",
       "<table border=\"1\" class=\"dataframe\">\n",
       "  <thead>\n",
       "    <tr style=\"text-align: right;\">\n",
       "      <th></th>\n",
       "      <th>Features</th>\n",
       "      <th>Values</th>\n",
       "    </tr>\n",
       "  </thead>\n",
       "  <tbody>\n",
       "    <tr>\n",
       "      <th>255</th>\n",
       "      <td>KBA13_SITZE_4</td>\n",
       "      <td>3.239386</td>\n",
       "    </tr>\n",
       "    <tr>\n",
       "      <th>234</th>\n",
       "      <td>KBA13_MERCEDES</td>\n",
       "      <td>3.229907</td>\n",
       "    </tr>\n",
       "    <tr>\n",
       "      <th>248</th>\n",
       "      <td>KBA13_SEG_OBEREMITTELKLASSE</td>\n",
       "      <td>3.210867</td>\n",
       "    </tr>\n",
       "    <tr>\n",
       "      <th>201</th>\n",
       "      <td>KBA13_HERST_BMW_BENZ</td>\n",
       "      <td>3.207910</td>\n",
       "    </tr>\n",
       "    <tr>\n",
       "      <th>171</th>\n",
       "      <td>KBA13_BMW</td>\n",
       "      <td>3.157282</td>\n",
       "    </tr>\n",
       "    <tr>\n",
       "      <th>259</th>\n",
       "      <td>KBA13_VORB_0</td>\n",
       "      <td>3.175583</td>\n",
       "    </tr>\n",
       "    <tr>\n",
       "      <th>210</th>\n",
       "      <td>KBA13_KMH_210</td>\n",
       "      <td>3.125993</td>\n",
       "    </tr>\n",
       "    <tr>\n",
       "      <th>229</th>\n",
       "      <td>KBA13_KW_61_120</td>\n",
       "      <td>3.110769</td>\n",
       "    </tr>\n",
       "    <tr>\n",
       "      <th>176</th>\n",
       "      <td>KBA13_CCM_1401_2500</td>\n",
       "      <td>3.005075</td>\n",
       "    </tr>\n",
       "    <tr>\n",
       "      <th>274</th>\n",
       "      <td>OST_WEST_KZ</td>\n",
       "      <td>1.088671</td>\n",
       "    </tr>\n",
       "  </tbody>\n",
       "</table>\n",
       "</div>"
      ],
      "text/plain": [
       "                        Features    Values\n",
       "255                KBA13_SITZE_4  3.239386\n",
       "234               KBA13_MERCEDES  3.229907\n",
       "248  KBA13_SEG_OBEREMITTELKLASSE  3.210867\n",
       "201         KBA13_HERST_BMW_BENZ  3.207910\n",
       "171                    KBA13_BMW  3.157282\n",
       "259                 KBA13_VORB_0  3.175583\n",
       "210                KBA13_KMH_210  3.125993\n",
       "229              KBA13_KW_61_120  3.110769\n",
       "176          KBA13_CCM_1401_2500  3.005075\n",
       "274                  OST_WEST_KZ  1.088671"
      ]
     },
     "execution_count": 54,
     "metadata": {},
     "output_type": "execute_result"
    }
   ],
   "source": [
    "# The positively correlated feature for Cluster 2\n",
    "cluster2_p"
   ]
  },
  {
   "cell_type": "code",
   "execution_count": 55,
   "metadata": {},
   "outputs": [
    {
     "data": {
      "text/html": [
       "<div>\n",
       "<style scoped>\n",
       "    .dataframe tbody tr th:only-of-type {\n",
       "        vertical-align: middle;\n",
       "    }\n",
       "\n",
       "    .dataframe tbody tr th {\n",
       "        vertical-align: top;\n",
       "    }\n",
       "\n",
       "    .dataframe thead th {\n",
       "        text-align: right;\n",
       "    }\n",
       "</style>\n",
       "<table border=\"1\" class=\"dataframe\">\n",
       "  <thead>\n",
       "    <tr style=\"text-align: right;\">\n",
       "      <th></th>\n",
       "      <th>Features</th>\n",
       "      <th>Values</th>\n",
       "    </tr>\n",
       "  </thead>\n",
       "  <tbody>\n",
       "    <tr>\n",
       "      <th>243</th>\n",
       "      <td>KBA13_SEG_KLEINWAGEN</td>\n",
       "      <td>2.891740</td>\n",
       "    </tr>\n",
       "    <tr>\n",
       "      <th>189</th>\n",
       "      <td>KBA13_HALTER_25</td>\n",
       "      <td>2.863392</td>\n",
       "    </tr>\n",
       "    <tr>\n",
       "      <th>208</th>\n",
       "      <td>KBA13_KMH_140_210</td>\n",
       "      <td>2.847344</td>\n",
       "    </tr>\n",
       "    <tr>\n",
       "      <th>244</th>\n",
       "      <td>KBA13_SEG_KOMPAKTKLASSE</td>\n",
       "      <td>2.714178</td>\n",
       "    </tr>\n",
       "    <tr>\n",
       "      <th>256</th>\n",
       "      <td>KBA13_SITZE_5</td>\n",
       "      <td>2.700693</td>\n",
       "    </tr>\n",
       "    <tr>\n",
       "      <th>221</th>\n",
       "      <td>KBA13_KW_0_60</td>\n",
       "      <td>2.881974</td>\n",
       "    </tr>\n",
       "    <tr>\n",
       "      <th>209</th>\n",
       "      <td>KBA13_KMH_180</td>\n",
       "      <td>2.874174</td>\n",
       "    </tr>\n",
       "    <tr>\n",
       "      <th>166</th>\n",
       "      <td>KBA13_BJ_2000</td>\n",
       "      <td>2.866285</td>\n",
       "    </tr>\n",
       "    <tr>\n",
       "      <th>207</th>\n",
       "      <td>KBA13_KMH_140</td>\n",
       "      <td>2.747213</td>\n",
       "    </tr>\n",
       "    <tr>\n",
       "      <th>172</th>\n",
       "      <td>KBA13_CCM_0_1400</td>\n",
       "      <td>2.214190</td>\n",
       "    </tr>\n",
       "  </tbody>\n",
       "</table>\n",
       "</div>"
      ],
      "text/plain": [
       "                    Features    Values\n",
       "243     KBA13_SEG_KLEINWAGEN  2.891740\n",
       "189          KBA13_HALTER_25  2.863392\n",
       "208        KBA13_KMH_140_210  2.847344\n",
       "244  KBA13_SEG_KOMPAKTKLASSE  2.714178\n",
       "256            KBA13_SITZE_5  2.700693\n",
       "221            KBA13_KW_0_60  2.881974\n",
       "209            KBA13_KMH_180  2.874174\n",
       "166            KBA13_BJ_2000  2.866285\n",
       "207            KBA13_KMH_140  2.747213\n",
       "172         KBA13_CCM_0_1400  2.214190"
      ]
     },
     "execution_count": 55,
     "metadata": {},
     "output_type": "execute_result"
    }
   ],
   "source": [
    "# The negatively correlated feature for Cluster 7\n",
    "cluster2_n"
   ]
  },
  {
   "cell_type": "markdown",
   "metadata": {},
   "source": [
    "**Discussion:** In this part, I have established the relationship between the demographic of the company’s existing customers and global population. Identify that Cluster 7 is the core customer of company, the individuals in Cluster 7 are more likely middle class, round 46-60 years old with small size family, very open to online shopping. As for Cluster 2, they have the highest potential to be the new customers, they are the upper rich class, crazy German luxury lover, originated from West-German family."
   ]
  },
  {
   "cell_type": "markdown",
   "metadata": {},
   "source": [
    "## Part 2: Supervised Learning Model\n",
    "\n",
    "Now that you've found which parts of the population are more likely to be customers of the mail-order company, it's time to build a prediction model. Each of the rows in the \"MAILOUT\" data files represents an individual that was targeted for a mailout campaign. Ideally, we should be able to use the demographic information from each individual to decide whether or not it will be worth it to include that person in the campaign.\n",
    "\n",
    "The \"MAILOUT\" data has been split into two approximately equal parts, each with almost 43 000 data rows. In this part, you can verify your model with the \"TRAIN\" partition, which includes a column, \"RESPONSE\", that states whether or not a person became a customer of the company following the campaign. In the next part, you'll need to create predictions on the \"TEST\" partition, where the \"RESPONSE\" column has been withheld."
   ]
  },
  {
   "cell_type": "code",
   "execution_count": 273,
   "metadata": {},
   "outputs": [
    {
     "name": "stderr",
     "output_type": "stream",
     "text": [
      "/anaconda3/lib/python3.7/site-packages/IPython/core/interactiveshell.py:3049: DtypeWarning: Columns (18,19) have mixed types. Specify dtype option on import or set low_memory=False.\n",
      "  interactivity=interactivity, compiler=compiler, result=result)\n"
     ]
    }
   ],
   "source": [
    "# Load mailout_train dataframe\n",
    "mailout_train = pd.read_csv('data/Udacity_MAILOUT_052018_TRAIN.csv', sep=';')"
   ]
  },
  {
   "cell_type": "code",
   "execution_count": 274,
   "metadata": {},
   "outputs": [
    {
     "name": "stdout",
     "output_type": "stream",
     "text": [
      "Step 1 - Fix mixed-type issue\n",
      "Shape after Step 1: (42962, 367)\n",
      "Step 2 - Convert NaN\n"
     ]
    },
    {
     "name": "stderr",
     "output_type": "stream",
     "text": [
      "/Users/zhili/Documents/Arvato Project/clean.py:28: SettingWithCopyWarning: \n",
      "A value is trying to be set on a copy of a slice from a DataFrame.\n",
      "Try using .loc[row_indexer,col_indexer] = value instead\n",
      "\n",
      "See the caveats in the documentation: http://pandas.pydata.org/pandas-docs/stable/indexing.html#indexing-view-versus-copy\n",
      "  feature_notnull['missing_or_unknown'] = feature_notnull['missing_or_unknown'].apply(lambda x: x.split(','))\n"
     ]
    },
    {
     "name": "stdout",
     "output_type": "stream",
     "text": [
      "Shape after Step 2: (42962, 367)\n",
      "Step 3 - Drop column with >30% missing rate\n",
      "Shape after Step 3: (42962, 346)\n",
      "Step 4 - Drop highly correlated features\n",
      "Shape after Step 4: (42962, 336)\n",
      "Step 5 - Re-encode categorical features\n",
      "Shape after Step 5: (42962, 373)\n",
      "Step 6 - Transform some mix-type features\n",
      "Shape after Step 6: (42962, 397)\n",
      "Step 7 - Impute missing value\n",
      "Shape after Step 7: (42962, 397)\n",
      "Step 8 - Scale the values\n",
      "Shape after Step 8: (42962, 397)\n"
     ]
    }
   ],
   "source": [
    "# Apply clean (same data wrangling procedure in azidas and customer) function to clean the data\n",
    "train_clean = clean(mailout_train)"
   ]
  },
  {
   "cell_type": "code",
   "execution_count": 275,
   "metadata": {},
   "outputs": [],
   "source": [
    "# Split the data into X and y\n",
    "X = train_clean.drop('RESPONSE',axis=1)\n",
    "y = mailout_train['RESPONSE']"
   ]
  },
  {
   "cell_type": "code",
   "execution_count": 7,
   "metadata": {},
   "outputs": [
    {
     "data": {
      "text/plain": [
       "<matplotlib.axes._subplots.AxesSubplot at 0x1c207a9400>"
      ]
     },
     "execution_count": 7,
     "metadata": {},
     "output_type": "execute_result"
    },
    {
     "data": {
      "image/png": "[encoded data removed]",
      "text/plain": [
       "<Figure size 432x288 with 1 Axes>"
      ]
     },
     "metadata": {
      "needs_background": "light"
     },
     "output_type": "display_data"
    }
   ],
   "source": [
    "# Visualize the distribution of y - RESPONSE\n",
    "sns.countplot(y)"
   ]
  },
  {
   "cell_type": "code",
   "execution_count": 278,
   "metadata": {},
   "outputs": [],
   "source": [
    "def grid_search(estimator, param_grid, X=X, y=y):\n",
    "    \"\"\"\n",
    "    Grid search a classifier by ROC AUC score, using cross-validation.\n",
    "    \n",
    "    INPUT:\n",
    "    - estimator (classifier): name of classifier\n",
    "    - param_grid (dict): parameters used with GridSearchCV\n",
    "    - X (DataFrame): features from cleaned mailout_train dataframe\n",
    "    - y (DataFrame): 'RESPONSE' from cleaned mailout_train dataframe\n",
    "            \n",
    "    OUTPUT:\n",
    "    - classifier: fitted classifier\n",
    "    - prints elapsed time and ROX AUC\n",
    "    \"\"\"\n",
    "    \n",
    "    grid = GridSearchCV(estimator=estimator, param_grid=param_grid, scoring='roc_auc', cv=5)\n",
    "    grid.fit(X, y)\n",
    "    best_estimator = grid.best_estimator_\n",
    "    best_score = grid.best_score_\n",
    "    return best_estimator, best_score"
   ]
  },
  {
   "cell_type": "code",
   "execution_count": 279,
   "metadata": {},
   "outputs": [],
   "source": [
    "# Choose five classifiers, LR, RF, AB, XGB, and GB\n",
    "models = []\n",
    "models.append(('LR', LogisticRegression()))\n",
    "models.append(('RF', RandomForestClassifier()))\n",
    "models.append(('AB', AdaBoostClassifier()))\n",
    "models.append(('XGB', XGBClassifier()))\n",
    "models.append(('GB', GradientBoostingClassifier()))"
   ]
  },
  {
   "cell_type": "code",
   "execution_count": 41,
   "metadata": {},
   "outputs": [],
   "source": [
    "# Ignore the FutureWarning\n",
    "warnings.filterwarnings(\"ignore\", category=FutureWarning)"
   ]
  },
  {
   "cell_type": "code",
   "execution_count": 42,
   "metadata": {},
   "outputs": [
    {
     "name": "stdout",
     "output_type": "stream",
     "text": [
      "ROC AUC score for LR: 0.6485425679155218\n",
      "ROC AUC score for RF: 0.51397198920462\n",
      "ROC AUC score for AB: 0.7172247047271816\n",
      "ROC AUC score for XGB: 0.6767631187538438\n",
      "ROC AUC score for GB: 0.756353542860312\n"
     ]
    }
   ],
   "source": [
    "# Evaluate ROC AUC score of five classifiers with default parameter\n",
    "for i in range(len(models)):\n",
    "    score = grid_search(models[i][1], {})[1]\n",
    "    print('ROC AUC score for {}: {}'.format(models[i][0], score))"
   ]
  },
  {
   "cell_type": "markdown",
   "metadata": {},
   "source": [
    "**Discussion:** According to above result, I decided to take Top 2 classifiers, AdaBoostClassifier and GradientBoostingClassifier. Tuning hyperparameter of them to improve the score."
   ]
  },
  {
   "cell_type": "code",
   "execution_count": 45,
   "metadata": {},
   "outputs": [],
   "source": [
    "# Tune the hyperparameters of AB model\n",
    "param_AB = {\n",
    "          \"learning_rate\"     : [0.1,0.2],\n",
    "          \"n_estimators\"      : [100,200,500]}\n",
    "AB_tuned = grid_search(AdaBoostClassifier(), param_AB)"
   ]
  },
  {
   "cell_type": "code",
   "execution_count": 48,
   "metadata": {},
   "outputs": [
    {
     "name": "stdout",
     "output_type": "stream",
     "text": [
      "AdaBoostClassifier(algorithm='SAMME.R', base_estimator=None, learning_rate=0.1,\n",
      "                   n_estimators=100, random_state=None) 0.7531099681186055\n"
     ]
    }
   ],
   "source": [
    "print(AB_tuned[0],AB_tuned[1])"
   ]
  },
  {
   "cell_type": "code",
   "execution_count": 49,
   "metadata": {},
   "outputs": [],
   "source": [
    "# Tune the hyperparameters of GB model\n",
    "param_GB = {\n",
    "          \"learning_rate\"     : [0.1,0.2],\n",
    "          \"max_depth\"         : [3,4],\n",
    "          \"n_estimators\"      : [100,200],\n",
    "          \"min_samples_split\" : [2,4]}\n",
    "GB_tuned = grid_search(GradientBoostingClassifier(), param_GB)"
   ]
  },
  {
   "cell_type": "code",
   "execution_count": 52,
   "metadata": {},
   "outputs": [
    {
     "name": "stdout",
     "output_type": "stream",
     "text": [
      "GradientBoostingClassifier(criterion='friedman_mse', init=None,\n",
      "                           learning_rate=0.1, loss='deviance', max_depth=3,\n",
      "                           max_features=None, max_leaf_nodes=None,\n",
      "                           min_impurity_decrease=0.0, min_impurity_split=None,\n",
      "                           min_samples_leaf=1, min_samples_split=4,\n",
      "                           min_weight_fraction_leaf=0.0, n_estimators=100,\n",
      "                           n_iter_no_change=None, presort='auto',\n",
      "                           random_state=None, subsample=1.0, tol=0.0001,\n",
      "                           validation_fraction=0.1, verbose=0,\n",
      "                           warm_start=False) 0.7569571470247872\n"
     ]
    }
   ],
   "source": [
    "print(GB_tuned[0], GB_tuned[1])"
   ]
  },
  {
   "cell_type": "code",
   "execution_count": 280,
   "metadata": {},
   "outputs": [],
   "source": [
    "# Re-fit the models with tuned parameters\n",
    "model_AB = AdaBoostClassifier(algorithm='SAMME.R', base_estimator=None, learning_rate=0.1,\n",
    "                   n_estimators=100, random_state=None).fit(X, y)\n",
    "\n",
    "model_GB = GradientBoostingClassifier(criterion='friedman_mse', init=None,\n",
    "                           learning_rate=0.1, loss='deviance', max_depth=3,\n",
    "                           max_features=None, max_leaf_nodes=None,\n",
    "                           min_impurity_decrease=0.0, min_impurity_split=None,\n",
    "                           min_samples_leaf=1, min_samples_split=4,\n",
    "                           min_weight_fraction_leaf=0.0, n_estimators=100,\n",
    "                           n_iter_no_change=None, presort='auto',\n",
    "                           random_state=None, subsample=1.0, tol=0.0001,\n",
    "                           validation_fraction=0.1, verbose=0,\n",
    "                           warm_start=False).fit(X, y)"
   ]
  },
  {
   "cell_type": "code",
   "execution_count": 313,
   "metadata": {},
   "outputs": [
    {
     "data": {
      "image/png": "[encoded data removed]",
      "text/plain": [
       "<Figure size 720x540 with 1 Axes>"
      ]
     },
     "metadata": {
      "needs_background": "light"
     },
     "output_type": "display_data"
    }
   ],
   "source": [
    "AB_importance = pd.DataFrame({'feature': X.columns, 'importance':model_AB.feature_importances_}).nlargest(10,columns='importance')\n",
    "AB_importance.sort_values('importance',ascending = False, inplace=True)\n",
    "fig = plt.figure(figsize=(10,7.5))\n",
    "ax = sns.barplot(y = AB_importance['feature'], x = AB_importance['importance'])\n",
    "ax.spines[\"top\"].set_visible(False)    \n",
    "ax.spines[\"bottom\"].set_visible(False)    \n",
    "ax.spines[\"right\"].set_visible(False)    \n",
    "ax.spines[\"left\"].set_visible(True)\n",
    "plt.ylabel('Feature', fontname=\"verdana\").set_size(18)\n",
    "plt.xlabel('', fontname=\"verdana\").set_size(18)\n",
    "plt.xticks(fontsize=16, fontname=\"verdana\")\n",
    "plt.yticks(fontsize=16, fontname=\"verdana\")\n",
    "plt.title('Feature Importance in AB Model', fontname=\"verdana\").set_size(20)\n",
    "plt.savefig('AB_importance.png', bbox_inches='tight')"
   ]
  },
  {
   "cell_type": "code",
   "execution_count": 290,
   "metadata": {},
   "outputs": [
    {
     "data": {
      "image/png": "[encoded data removed]",
      "text/plain": [
       "<Figure size 720x540 with 1 Axes>"
      ]
     },
     "metadata": {
      "needs_background": "light"
     },
     "output_type": "display_data"
    }
   ],
   "source": [
    "GB_importance = pd.DataFrame({'feature': X.columns, 'importance':model_GB.feature_importances_}).nlargest(10,columns='importance')\n",
    "GB_importance.sort_values('importance', ascending = False, inplace=True)\n",
    "fig = plt.figure(figsize=(10,7.5))\n",
    "ax = sns.barplot(y = GB_importance['feature'], x = GB_importance['importance'])\n",
    "ax.spines[\"top\"].set_visible(False)    \n",
    "ax.spines[\"bottom\"].set_visible(False)    \n",
    "ax.spines[\"right\"].set_visible(False)    \n",
    "ax.spines[\"left\"].set_visible(True)\n",
    "plt.ylabel('Feature').set_size(18)\n",
    "plt.xlabel('').set_size(18)\n",
    "plt.xticks(fontsize=16)\n",
    "plt.yticks(fontsize=16)\n",
    "plt.title('Feature Importance in GB Model').set_size(20)"
   ]
  },
  {
   "cell_type": "markdown",
   "metadata": {},
   "source": [
    "**Discussion:** AdaBoostClassifier (AB) and GradientBoostClassifier (GB) can achieve relatively higher performance than the other, with the ROC AUC score 0.7172 and 0.7564. After hyperparameter tuning, their performance can increase to 0.7531 in AB, 0.7564 in GB. The most important feature is \"D19_SOZIALES\" in both AB and GB, it is more likely describe a individual has any transaction related with social."
   ]
  },
  {
   "cell_type": "markdown",
   "metadata": {},
   "source": [
    "## Part 3: Kaggle Competition\n",
    "\n",
    "Now that you've created a model to predict which individuals are most likely to respond to a mailout campaign, it's time to test that model in competition through Kaggle. If you click on the link [here](http://www.kaggle.com/t/21e6d45d4c574c7fa2d868f0e8c83140), you'll be taken to the competition page where, if you have a Kaggle account, you can enter. If you're one of the top performers, you may have the chance to be contacted by a hiring manager from Arvato or Bertelsmann for an interview!\n",
    "\n",
    "Your entry to the competition should be a CSV file with two columns. The first column should be a copy of \"LNR\", which acts as an ID number for each individual in the \"TEST\" partition. The second column, \"RESPONSE\", should be some measure of how likely each individual became a customer – this might not be a straightforward probability. As you should have found in Part 2, there is a large output class imbalance, where most individuals did not respond to the mailout. Thus, predicting individual classes and using accuracy does not seem to be an appropriate performance evaluation method. Instead, the competition will be using AUC to evaluate performance. The exact values of the \"RESPONSE\" column do not matter as much: only that the higher values try to capture as many of the actual customers as possible, early in the ROC curve sweep."
   ]
  },
  {
   "cell_type": "code",
   "execution_count": 10,
   "metadata": {},
   "outputs": [
    {
     "name": "stderr",
     "output_type": "stream",
     "text": [
      "/anaconda3/lib/python3.7/site-packages/IPython/core/interactiveshell.py:3049: DtypeWarning: Columns (18,19) have mixed types. Specify dtype option on import or set low_memory=False.\n",
      "  interactivity=interactivity, compiler=compiler, result=result)\n"
     ]
    }
   ],
   "source": [
    "# Load mailout_test dataframe\n",
    "mailout_test = pd.read_csv('data/Udacity_MAILOUT_052018_TEST.csv', sep=';')"
   ]
  },
  {
   "cell_type": "code",
   "execution_count": 11,
   "metadata": {},
   "outputs": [
    {
     "name": "stdout",
     "output_type": "stream",
     "text": [
      "Step 1 - Fix mixed-type issue\n",
      "Shape after Step 1: (42833, 366)\n",
      "Step 2 - Convert NaN\n"
     ]
    },
    {
     "name": "stderr",
     "output_type": "stream",
     "text": [
      "/Users/zhili/Documents/Arvato Project/clean.py:28: SettingWithCopyWarning: \n",
      "A value is trying to be set on a copy of a slice from a DataFrame.\n",
      "Try using .loc[row_indexer,col_indexer] = value instead\n",
      "\n",
      "See the caveats in the documentation: http://pandas.pydata.org/pandas-docs/stable/indexing.html#indexing-view-versus-copy\n",
      "  feature_notnull['missing_or_unknown'] = feature_notnull['missing_or_unknown'].apply(lambda x: x.split(','))\n"
     ]
    },
    {
     "name": "stdout",
     "output_type": "stream",
     "text": [
      "Shape after Step 2: (42833, 366)\n",
      "Step 3 - Drop column with >30% missing rate\n",
      "Shape after Step 3: (42833, 345)\n",
      "Step 4 - Drop highly correlated features\n",
      "Shape after Step 4: (42833, 334)\n",
      "Step 5 - Re-encode categorical features\n",
      "Shape after Step 5: (42833, 371)\n",
      "Step 6 - Transform some mix-type features\n",
      "Shape after Step 6: (42833, 395)\n",
      "Step 7 - Impute missing value\n",
      "Shape after Step 7: (42833, 395)\n",
      "Step 8 - Scale the values\n",
      "Shape after Step 8: (42833, 395)\n"
     ]
    }
   ],
   "source": [
    "# Clean the mailout_test dataframe\n",
    "test_clean = clean(mailout_test)"
   ]
  },
  {
   "cell_type": "code",
   "execution_count": 12,
   "metadata": {},
   "outputs": [
    {
     "data": {
      "text/plain": [
       "array(['KBA13_BAUMAX', 'RESPONSE'], dtype=object)"
      ]
     },
     "execution_count": 12,
     "metadata": {},
     "output_type": "execute_result"
    }
   ],
   "source": [
    "# Find whether there is missing feature between train_clean and test_clean\n",
    "np.setdiff1d(train_clean.columns, test_clean.columns)"
   ]
  },
  {
   "cell_type": "code",
   "execution_count": 13,
   "metadata": {},
   "outputs": [],
   "source": [
    "# Prepare the missing 'KBA13_BAUMAX' in test_clean from original mailout_test, impute the missing value with mode\n",
    "test_to_add = pd.DataFrame(mailout_test.KBA13_BAUMAX)\n",
    "test_to_add['KBA13_BAUMAX'] = test_to_add['KBA13_BAUMAX'].fillna(test_to_add['KBA13_BAUMAX'].mode()[0])"
   ]
  },
  {
   "cell_type": "code",
   "execution_count": 14,
   "metadata": {},
   "outputs": [],
   "source": [
    "# Scale the value of 'KBA13_BAUMAX', join the imputed&scaled feature to test_clean\n",
    "scaler = StandardScaler()\n",
    "test_to_add = pd.DataFrame(scaler.fit_transform(test_to_add.values),columns=test_to_add.columns)\n",
    "test_clean = test_clean.join(test_to_add)"
   ]
  },
  {
   "cell_type": "code",
   "execution_count": 90,
   "metadata": {},
   "outputs": [],
   "source": [
    "# Predict the RESPONSE by model_AB\n",
    "pred_AB = model_AB.predict_proba(test_clean)"
   ]
  },
  {
   "cell_type": "code",
   "execution_count": 91,
   "metadata": {},
   "outputs": [],
   "source": [
    "# Predict the RESPONSE by model_GB\n",
    "pred_GB = model_GB.predict_proba(test_clean)"
   ]
  },
  {
   "cell_type": "code",
   "execution_count": 102,
   "metadata": {},
   "outputs": [],
   "source": [
    "# Create dataframe index with 'LNR', containing model_AB predicted RESPONSE for Kaggle competition\n",
    "AB_df = pd.DataFrame(index=mailout_test['LNR'].astype('int32'), data=pred_AB[:,1])\n",
    "AB_df.rename(columns={0: \"RESPONSE\"}, inplace=True)\n",
    "AB_df.to_csv('AB_kaggle.csv')"
   ]
  },
  {
   "cell_type": "code",
   "execution_count": 103,
   "metadata": {},
   "outputs": [],
   "source": [
    "# Create dataframe index with 'LNR', containing model_GB predicted RESPONSE for Kaggle competition\n",
    "GB_df = pd.DataFrame(index=mailout_test['LNR'].astype('int32'), data=pred_GB[:,1])\n",
    "GB_df.rename(columns={0: \"RESPONSE\"}, inplace=True)\n",
    "GB_df.to_csv('GB_kaggle.csv')"
   ]
  }
 ],
 "metadata": {
  "kernelspec": {
   "display_name": "Python 3",
   "language": "python",
   "name": "python3"
  },
  "language_info": {
   "codemirror_mode": {
    "name": "ipython",
    "version": 3
   },
   "file_extension": ".py",
   "mimetype": "text/x-python",
   "name": "python",
   "nbconvert_exporter": "python",
   "pygments_lexer": "ipython3",
   "version": "3.7.3"
  }
 },
 "nbformat": 4,
 "nbformat_minor": 2
}
